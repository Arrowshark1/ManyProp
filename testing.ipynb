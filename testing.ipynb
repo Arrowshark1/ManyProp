{
 "cells": [
  {
   "cell_type": "code",
   "execution_count": null,
   "id": "a5e12e77",
   "metadata": {},
   "outputs": [],
   "source": [
    "from rdkit import Chem\n",
    "from rdkit.Chem import Draw\n",
    "import pandas as pd\n",
    "import numpy as np"
   ]
  },
  {
   "cell_type": "markdown",
   "id": "c8c71121",
   "metadata": {},
   "source": [
    "df = pd.read_csv(\"data/NIST_Visc_data.csv\")"
   ]
  },
  {
   "cell_type": "markdown",
   "id": "93214524",
   "metadata": {},
   "source": [
    "feats = pd.DataFrame(df, columns=[\"MolFrac_1\", \"T\"])\n",
    "data = pd.DataFrame(df, columns=[\"MOL_1\", \"MOL_2\", \"Visc\"])\n"
   ]
  },
  {
   "cell_type": "markdown",
   "id": "52c388c3",
   "metadata": {},
   "source": [
    "feats.to_csv(\"data/features1.csv\", index=False)\n",
    "data.to_csv(\"data/data1.csv\", index=False)"
   ]
  },
  {
   "cell_type": "markdown",
   "id": "39f48d33",
   "metadata": {},
   "source": [
    "df = pd.read_csv(\"ManyProp/data/data.csv\")"
   ]
  },
  {
   "cell_type": "markdown",
   "id": "d49485cf",
   "metadata": {},
   "source": [
    "data_list = [] \n",
    "for idx, row in df.iterrows():\n",
    "    smi1 = row['MOL_1']\n",
    "    smi2 = row['MOL_2']\n",
    "    mol1 = MoleculeModel(smi1, 0.5)()\n",
    "    mol2 = MoleculeModel(smi2, 0.5)()\n",
    "    target = row['logV']\n",
    "    data_list.append((MixtureDataset([mol1, mol2], float(target))))"
   ]
  },
  {
   "cell_type": "markdown",
   "id": "36d0486d",
   "metadata": {},
   "source": [
    "data_list = [ds.to_tuple() for ds in data_list]"
   ]
  },
  {
   "cell_type": "code",
   "execution_count": null,
   "id": "9eb0e175",
   "metadata": {},
   "outputs": [],
   "source": [
    "from ManyProp.args import Args\n",
    "from ManyProp.model.train import run_training\n",
    "from ManyProp.data.data_pipeline import parse_data"
   ]
  },
  {
   "cell_type": "code",
   "execution_count": null,
   "id": "a9db749f",
   "metadata": {},
   "outputs": [],
   "source": [
    "args = Args()\n",
    "args().epochs = 30\n",
    "#args().num_folds = 2\n",
    "#args().num_layers=2\n",
    "#args().dropout=0.1\n",
    "#args().data_points=40\n",
    "#args().data_path=\"./data/data1.csv\"\n",
    "#args().features_path=\"./data/features1.csv\"\n",
    "#args().smiles_columns=['MOL_1', 'MOL_2']\n",
    "#args().targets_column=['logV']\n",
    "#args().mol_frac_columns=['MolFrac_1']\n",
    "args().normalize = True\n",
    "args().log = True\n",
    "\n",
    "args().loss_function = \"SmoothL1\""
   ]
  },
  {
   "cell_type": "markdown",
   "id": "6cbf632e",
   "metadata": {},
   "source": [
    "data = pd.read_csv(args().data_path)\n",
    "feat_data = pd.read_csv(args().mol_features_path) \n",
    "\n",
    "all_data = pd.concat([data, feat_data], axis=1)\n",
    "all_data.head()"
   ]
  },
  {
   "cell_type": "markdown",
   "id": "405a997f",
   "metadata": {},
   "source": [
    "data_list = parse_data(args=args,num_dp=100)"
   ]
  },
  {
   "cell_type": "markdown",
   "id": "797f7801",
   "metadata": {},
   "source": [
    "pd.DataFrame(data_list[:10]).head()"
   ]
  },
  {
   "cell_type": "markdown",
   "id": "1b247868",
   "metadata": {},
   "source": [
    "from ManyProp.utils import make_splits\n",
    "\n",
    "train_data, val_data, test_data = make_splits(args=args, data_list=data_list)"
   ]
  },
  {
   "cell_type": "markdown",
   "id": "f6011761",
   "metadata": {},
   "source": [
    "dl = make_dl(args=args, data_list=data_list)\n",
    "train_dl = make_dl(args=args, data_list=train_data)\n",
    "val_dl = make_dl(args=args, data_list=val_data)\n",
    "test_dl = make_dl(args=args, data_list=test_data)"
   ]
  },
  {
   "cell_type": "code",
   "execution_count": null,
   "id": "e248d5bf",
   "metadata": {},
   "outputs": [],
   "source": [
    "import matplotlib.pyplot as plt"
   ]
  },
  {
   "cell_type": "code",
   "execution_count": null,
   "id": "39a9469f",
   "metadata": {},
   "outputs": [],
   "source": [
    "losses = run_training(args=args)#, train_dl=train_dl, val_dl=val_dl) "
   ]
  },
  {
   "cell_type": "code",
   "execution_count": null,
   "id": "5ccc7591",
   "metadata": {},
   "outputs": [],
   "source": [
    "x = np.array([tup[1] for tup in losses])\n",
    "y = np.array([tup[2] for tup in losses])\n",
    "\n",
    "c = np.array([tup[0] for tup in losses])\n",
    "\n",
    "plt.scatter(x, y, c=c, cmap='viridis', alpha=0.9)\n",
    "plt.colorbar(label=\"fold\")\n",
    "\n",
    "plt.show()\n",
    "y = np.array([tup[3] for tup in losses])\n",
    "plt.scatter(x, y, c=c, cmap='viridis', alpha=0.9)\n",
    "plt.colorbar(label=\"fold\")\n",
    "\n",
    "plt.show()"
   ]
  },
  {
   "cell_type": "code",
   "execution_count": null,
   "id": "99045ea7",
   "metadata": {},
   "outputs": [],
   "source": [
    "def make_plot(idx, losses_arr, title):\n",
    "    fold_losses = []\n",
    "\n",
    "    for n in range(args().num_folds):\n",
    "        fold_losses.append([])\n",
    "        for tup in losses_arr:\n",
    "            if tup[0]==n:\n",
    "                fold_losses[n].append(tup[idx])\n",
    "\n",
    "    avg_losses = []\n",
    "    avg_vars = []\n",
    "    for e in range(args().epochs):\n",
    "        losses_arr = []\n",
    "        \n",
    "        for f in fold_losses:\n",
    "            losses_arr.append(f[e])\n",
    "        avg_losses.append(np.mean(losses_arr).item())\n",
    "        avg_vars.append(np.var(losses_arr).item())\n",
    "    x=range(args().epochs)\n",
    "    a, b = np.polyfit(x, avg_losses, 1)\n",
    "\n",
    "    plt.errorbar(x=x,y=avg_losses, yerr=avg_vars, fmt='o', capsize=5)\n",
    "    plt.xlabel(\"epoch\")\n",
    "    plt.ylabel(\"loss\")\n",
    "    plt.title(title)\n",
    "    plt.plot(x, a*x+b)\n",
    "    plt.show()"
   ]
  },
  {
   "cell_type": "code",
   "execution_count": null,
   "id": "907bca5c",
   "metadata": {},
   "outputs": [],
   "source": [
    "make_plot(2, losses_arr=losses, title=\"Train Loss\")\n",
    "make_plot(3, losses_arr=losses, title=\"Val Loss\")"
   ]
  },
  {
   "cell_type": "code",
   "execution_count": null,
   "id": "de809f87",
   "metadata": {},
   "outputs": [],
   "source": [
    "from ManyProp.data.testing import rand_mol\n"
   ]
  },
  {
   "cell_type": "code",
   "execution_count": null,
   "id": "f950f7f5",
   "metadata": {},
   "outputs": [],
   "source": [
    "mol1 = rand_mol()\n",
    "mol2 = rand_mol()"
   ]
  },
  {
   "cell_type": "code",
   "execution_count": null,
   "id": "5530df28",
   "metadata": {},
   "outputs": [],
   "source": [
    "Chem.MolFromSmiles(mol1)"
   ]
  },
  {
   "cell_type": "code",
   "execution_count": null,
   "id": "99cd07d4",
   "metadata": {},
   "outputs": [],
   "source": [
    "Chem.MolFromSmiles(mol2)"
   ]
  },
  {
   "cell_type": "code",
   "execution_count": null,
   "id": "f2dc6ec3",
   "metadata": {},
   "outputs": [],
   "source": [
    "from ManyProp.model.predict import predict\n",
    "#[\"COCCOC\",\"CCCN\"]\n",
    "args().smiles = [mol1,mol2]\n",
    "args().mol_fracs = [0.25, 0.75]\n",
    "pred, var = predict(args=args)\n",
    "print(f\"prediction: {pred} - var: {var}\")"
   ]
  },
  {
   "cell_type": "markdown",
   "id": "da7be8f8",
   "metadata": {},
   "source": [
    "10**pred"
   ]
  },
  {
   "cell_type": "code",
   "execution_count": null,
   "id": "bb06ce72",
   "metadata": {},
   "outputs": [],
   "source": [
    "from ManyProp.model.predict import predict_graph\n",
    "import matplotlib.pyplot as plt\n",
    "fracs, predictions, vars = predict_graph(args)\n",
    "\n",
    "plt.xlabel(\"Mol 1 contrib\")\n",
    "plt.ylabel(\"Visc\")\n",
    "plt.errorbar(x=fracs,y=predictions, yerr=vars, fmt='o', capsize=5)\n",
    "plt.show()\n"
   ]
  },
  {
   "cell_type": "markdown",
   "id": "14a8060b",
   "metadata": {},
   "source": [
    "0.10665317578241229 "
   ]
  },
  {
   "cell_type": "markdown",
   "id": "775b2745",
   "metadata": {},
   "source": [
    "0.9376093910024833\n",
    "1.4904445287051609"
   ]
  },
  {
   "cell_type": "code",
   "execution_count": null,
   "id": "d06ba848",
   "metadata": {},
   "outputs": [],
   "source": [
    "from ManyProp.args import Args\n",
    "args = Args()\n",
    "#args().data_points = 40\n",
    "args().num_folds = 5\n",
    "args().lightningMPNN = True\n",
    "from ManyProp.model.train import lightning_train\n",
    "\n",
    "losses = lightning_train(args=args)\n"
   ]
  },
  {
   "cell_type": "code",
   "execution_count": null,
   "id": "6412725c",
   "metadata": {},
   "outputs": [],
   "source": [
    "losses"
   ]
  },
  {
   "cell_type": "code",
   "execution_count": null,
   "id": "06d2b5cc",
   "metadata": {},
   "outputs": [],
   "source": [
    "import numpy as np\n",
    "import matplotlib.pyplot as plt\n",
    "avg_losses = []\n",
    "losses_err = []\n",
    "\n",
    "for epoch in range(args().epochs):\n",
    "    ep_loss = []\n",
    "    for fold in range(args().num_folds):\n",
    "        ep_loss.append(losses[f'fold{fold}']['train_loss'][epoch])\n",
    "\n",
    "    avg_losses.append(np.mean(ep_loss))\n",
    "    avg_losses.append(np.std(ep_loss))\n",
    "\n",
    "plt.xlabel(\"epoch\")\n",
    "plt.ylabel(\"loss\")\n",
    "plt.errorbar(x=range(args().epochs),y=avg_losses, yerr=losses_err, fmt='o', capsize=5)\n",
    "        "
   ]
  },
  {
   "cell_type": "code",
   "execution_count": null,
   "id": "f1bd9842",
   "metadata": {},
   "outputs": [],
   "source": [
    "from ManyProp.model.predict import predict\n",
    "pred = predict(args=args)"
   ]
  },
  {
   "cell_type": "code",
   "execution_count": null,
   "id": "194c4986",
   "metadata": {},
   "outputs": [],
   "source": [
    "pred[0].item()"
   ]
  },
  {
   "cell_type": "markdown",
   "id": "1fd5be5c",
   "metadata": {},
   "source": [
    "0.3994931346641328"
   ]
  },
  {
   "cell_type": "code",
   "execution_count": null,
   "id": "eec59e82",
   "metadata": {},
   "outputs": [],
   "source": [
    "10**pred[0].item()"
   ]
  },
  {
   "cell_type": "code",
   "execution_count": null,
   "id": "7f55a488",
   "metadata": {},
   "outputs": [],
   "source": [
    "0.8647794728286865\n"
   ]
  },
  {
   "cell_type": "code",
   "execution_count": null,
   "id": "81c9dd50",
   "metadata": {},
   "outputs": [],
   "source": [
    "from ManyProp.args import Args\n",
    "from ManyProp.model.train import run_training\n",
    "from ManyProp.model.train import lightning_train \n",
    "args = Args()\n",
    "args().num_mols = 1\n",
    "args().data_path = \"./data/nvc.csv\"\n",
    "args().mol_features_path = \"./data/nvc.csv\"\n",
    "args().smiles_columns = [\"Smiles\"]\n",
    "args().lightningMPNN = True\n",
    "args().targets_column = \"Property\"\n",
    "\n",
    "lightning_train(args=args)"
   ]
  },
  {
   "cell_type": "code",
   "execution_count": null,
   "id": "915a0580",
   "metadata": {},
   "outputs": [],
   "source": [
    "args().smiles = [\"CCCCCC\"]\n",
    "from ManyProp.model.predict import predict \n",
    "\n",
    "predict(args=args)"
   ]
  },
  {
   "cell_type": "code",
   "execution_count": null,
   "id": "9da75d82",
   "metadata": {},
   "outputs": [],
   "source": []
  }
 ],
 "metadata": {
  "kernelspec": {
   "display_name": "manypropenv",
   "language": "python",
   "name": "python3"
  },
  "language_info": {
   "codemirror_mode": {
    "name": "ipython",
    "version": 3
   },
   "file_extension": ".py",
   "mimetype": "text/x-python",
   "name": "python",
   "nbconvert_exporter": "python",
   "pygments_lexer": "ipython3",
   "version": "3.13.5"
  }
 },
 "nbformat": 4,
 "nbformat_minor": 5
}
