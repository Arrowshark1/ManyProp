{
 "cells": [
  {
   "cell_type": "code",
   "execution_count": 1,
   "id": "a5e12e77",
   "metadata": {},
   "outputs": [],
   "source": [
    "from rdkit import Chem\n",
    "from rdkit.Chem import Draw\n",
    "import pandas as pd\n",
    "import numpy as np"
   ]
  },
  {
   "cell_type": "markdown",
   "id": "c8c71121",
   "metadata": {},
   "source": [
    "df = pd.read_csv(\"data/NIST_Visc_data.csv\")"
   ]
  },
  {
   "cell_type": "markdown",
   "id": "93214524",
   "metadata": {},
   "source": [
    "feats = pd.DataFrame(df, columns=[\"MolFrac_1\", \"T\"])\n",
    "data = pd.DataFrame(df, columns=[\"MOL_1\", \"MOL_2\", \"Visc\"])\n"
   ]
  },
  {
   "cell_type": "markdown",
   "id": "52c388c3",
   "metadata": {},
   "source": [
    "feats.to_csv(\"data/features1.csv\", index=False)\n",
    "data.to_csv(\"data/data1.csv\", index=False)"
   ]
  },
  {
   "cell_type": "markdown",
   "id": "39f48d33",
   "metadata": {},
   "source": [
    "df = pd.read_csv(\"ManyProp/data/data.csv\")"
   ]
  },
  {
   "cell_type": "markdown",
   "id": "d49485cf",
   "metadata": {},
   "source": [
    "data_list = [] \n",
    "for idx, row in df.iterrows():\n",
    "    smi1 = row['MOL_1']\n",
    "    smi2 = row['MOL_2']\n",
    "    mol1 = MoleculeModel(smi1, 0.5)()\n",
    "    mol2 = MoleculeModel(smi2, 0.5)()\n",
    "    target = row['logV']\n",
    "    data_list.append((MixtureDataset([mol1, mol2], float(target))))"
   ]
  },
  {
   "cell_type": "markdown",
   "id": "36d0486d",
   "metadata": {},
   "source": [
    "data_list = [ds.to_tuple() for ds in data_list]"
   ]
  },
  {
   "cell_type": "code",
   "execution_count": 1,
   "id": "9eb0e175",
   "metadata": {},
   "outputs": [],
   "source": [
    "from ManyProp.args import Args\n",
    "from ManyProp.model.train import run_training\n",
    "from ManyProp.data.data_pipeline import parse_data"
   ]
  },
  {
   "cell_type": "code",
   "execution_count": 3,
   "id": "a9db749f",
   "metadata": {},
   "outputs": [],
   "source": [
    "args = Args()\n",
    "args().epochs = 30\n",
    "#args().num_folds = 2\n",
    "#args().num_layers=2\n",
    "#args().dropout=0.1\n",
    "#args().data_points=40\n",
    "#args().data_path=\"./data/data1.csv\"\n",
    "#args().features_path=\"./data/features1.csv\"\n",
    "#args().smiles_columns=['MOL_1', 'MOL_2']\n",
    "#args().targets_column=['logV']\n",
    "#args().mol_frac_columns=['MolFrac_1']\n",
    "args().normalize = True\n",
    "args().log = True\n",
    "\n",
    "args().loss_function = \"SmoothL1\""
   ]
  },
  {
   "cell_type": "markdown",
   "id": "6cbf632e",
   "metadata": {},
   "source": [
    "data = pd.read_csv(args().data_path)\n",
    "feat_data = pd.read_csv(args().mol_features_path) \n",
    "\n",
    "all_data = pd.concat([data, feat_data], axis=1)\n",
    "all_data.head()"
   ]
  },
  {
   "cell_type": "markdown",
   "id": "405a997f",
   "metadata": {},
   "source": [
    "data_list = parse_data(args=args,num_dp=100)"
   ]
  },
  {
   "cell_type": "markdown",
   "id": "797f7801",
   "metadata": {},
   "source": [
    "pd.DataFrame(data_list[:10]).head()"
   ]
  },
  {
   "cell_type": "markdown",
   "id": "1b247868",
   "metadata": {},
   "source": [
    "from ManyProp.utils import make_splits\n",
    "\n",
    "train_data, val_data, test_data = make_splits(args=args, data_list=data_list)"
   ]
  },
  {
   "cell_type": "markdown",
   "id": "f6011761",
   "metadata": {},
   "source": [
    "dl = make_dl(args=args, data_list=data_list)\n",
    "train_dl = make_dl(args=args, data_list=train_data)\n",
    "val_dl = make_dl(args=args, data_list=val_data)\n",
    "test_dl = make_dl(args=args, data_list=test_data)"
   ]
  },
  {
   "cell_type": "code",
   "execution_count": 4,
   "id": "e248d5bf",
   "metadata": {},
   "outputs": [],
   "source": [
    "import matplotlib.pyplot as plt"
   ]
  },
  {
   "cell_type": "code",
   "execution_count": 5,
   "id": "39a9469f",
   "metadata": {},
   "outputs": [
    {
     "name": "stderr",
     "output_type": "stream",
     "text": [
      "[14:45:47] WARNING: not removing hydrogen atom without neighbors\n",
      "[14:45:50] WARNING: not removing hydrogen atom without neighbors\n",
      "[14:45:53] WARNING: not removing hydrogen atom without neighbors\n",
      "[14:45:54] WARNING: not removing hydrogen atom without neighbors\n",
      "[14:45:55] WARNING: not removing hydrogen atom without neighbors\n",
      "[14:46:05] WARNING: not removing hydrogen atom without neighbors\n",
      "[14:46:07] WARNING: not removing hydrogen atom without neighbors\n",
      "[14:46:14] WARNING: not removing hydrogen atom without neighbors\n",
      "[14:46:17] WARNING: not removing hydrogen atom without neighbors\n",
      "[14:46:20] WARNING: not removing hydrogen atom without neighbors\n",
      "[14:46:27] WARNING: not removing hydrogen atom without neighbors\n",
      "[14:46:32] WARNING: not removing hydrogen atom without neighbors\n",
      "[14:46:44] WARNING: not removing hydrogen atom without neighbors\n",
      "[14:46:47] WARNING: not removing hydrogen atom without neighbors\n",
      "[14:46:54] WARNING: not removing hydrogen atom without neighbors\n",
      "[14:46:55] WARNING: not removing hydrogen atom without neighbors\n"
     ]
    },
    {
     "name": "stdout",
     "output_type": "stream",
     "text": [
      "fold: 0\n"
     ]
    },
    {
     "name": "stderr",
     "output_type": "stream",
     "text": [
      "c:\\Users\\cbh2\\Documents\\ManyProp\\manypropenv\\Lib\\site-packages\\torch\\nn\\modules\\loss.py:1042: UserWarning: Using a target size (torch.Size([32])) that is different to the input size (torch.Size([32, 1])). This will likely lead to incorrect results due to broadcasting. Please ensure they have the same size.\n",
      "  return F.smooth_l1_loss(input, target, reduction=self.reduction, beta=self.beta)\n",
      "c:\\Users\\cbh2\\Documents\\ManyProp\\manypropenv\\Lib\\site-packages\\torch\\nn\\modules\\loss.py:1042: UserWarning: Using a target size (torch.Size([24])) that is different to the input size (torch.Size([24, 1])). This will likely lead to incorrect results due to broadcasting. Please ensure they have the same size.\n",
      "  return F.smooth_l1_loss(input, target, reduction=self.reduction, beta=self.beta)\n"
     ]
    },
    {
     "name": "stdout",
     "output_type": "stream",
     "text": [
      "epoch: 0 train_loss: 0.007329919395892473 — val_loss: 0.01001443645301236\n",
      "epoch: 1 train_loss: 0.006939551806405681 — val_loss: 0.009046165930942214\n",
      "epoch: 2 train_loss: 0.006792035045329261 — val_loss: 0.01028595833273185\n",
      "epoch: 3 train_loss: 0.006776785966547333 — val_loss: 0.009307170681373891\n",
      "epoch: 4 train_loss: 0.006730657958104265 — val_loss: 0.011288474302298866\n",
      "epoch: 5 train_loss: 0.006705990690835844 — val_loss: 0.009648461157035134\n",
      "epoch: 6 train_loss: 0.006747768758250379 — val_loss: 0.010070103861566466\n",
      "epoch: 7 train_loss: 0.006768366801654113 — val_loss: 0.011412576907563761\n",
      "epoch: 8 train_loss: 0.006671520635840617 — val_loss: 0.009180363601105053\n",
      "epoch: 9 train_loss: 0.006601630536873018 — val_loss: 0.01085845483583142\n",
      "epoch: 10 train_loss: 0.006593379122785874 — val_loss: 0.010955790616366916\n",
      "epoch: 11 train_loss: 0.006610803219901606 — val_loss: 0.010318426515426015\n",
      "epoch: 12 train_loss: 0.006687891269932888 — val_loss: 0.008955889033759731\n",
      "epoch: 13 train_loss: 0.006600697454680386 — val_loss: 0.011404490335458399\n",
      "epoch: 14 train_loss: 0.006662942544559375 — val_loss: 0.009377974000098682\n",
      "epoch: 15 train_loss: 0.006601920386532735 — val_loss: 0.011197155100305074\n",
      "epoch: 16 train_loss: 0.006574511458426448 — val_loss: 0.010459731854990354\n",
      "epoch: 17 train_loss: 0.006599244566075538 — val_loss: 0.008579912327601686\n",
      "epoch: 18 train_loss: 0.006594169697720354 — val_loss: 0.009497094118758567\n",
      "epoch: 19 train_loss: 0.006559167077710377 — val_loss: 0.010277534869888296\n",
      "epoch: 20 train_loss: 0.006607660945969198 — val_loss: 0.01016512469498554\n",
      "epoch: 21 train_loss: 0.006582173553278522 — val_loss: 0.009679032003155808\n",
      "epoch: 22 train_loss: 0.006547077279811232 — val_loss: 0.009747005836465563\n",
      "epoch: 23 train_loss: 0.006586083236051537 — val_loss: 0.010914279913949294\n",
      "epoch: 24 train_loss: 0.006541248776318156 — val_loss: 0.009382453230869022\n",
      "epoch: 25 train_loss: 0.006485011520838572 — val_loss: 0.009294147885412043\n",
      "epoch: 26 train_loss: 0.006528855241139529 — val_loss: 0.010335030237121217\n",
      "epoch: 27 train_loss: 0.0065437159956684325 — val_loss: 0.010098268374286849\n",
      "epoch: 28 train_loss: 0.006607107082651743 — val_loss: 0.009421760689191143\n",
      "epoch: 29 train_loss: 0.00646937047315207 — val_loss: 0.010086180297528023\n"
     ]
    },
    {
     "name": "stderr",
     "output_type": "stream",
     "text": [
      "c:\\Users\\cbh2\\Documents\\ManyProp\\manypropenv\\Lib\\site-packages\\torch\\nn\\modules\\loss.py:1042: UserWarning: Using a target size (torch.Size([25])) that is different to the input size (torch.Size([25, 1])). This will likely lead to incorrect results due to broadcasting. Please ensure they have the same size.\n",
      "  return F.smooth_l1_loss(input, target, reduction=self.reduction, beta=self.beta)\n"
     ]
    },
    {
     "name": "stdout",
     "output_type": "stream",
     "text": [
      "results: {'mse': 0.798053503036499, 'r2': 0.21933084726333618}, test_loss: 0.009985380237499326\n"
     ]
    },
    {
     "name": "stderr",
     "output_type": "stream",
     "text": [
      "[15:03:30] WARNING: not removing hydrogen atom without neighbors\n",
      "[15:03:35] WARNING: not removing hydrogen atom without neighbors\n",
      "[15:03:41] WARNING: not removing hydrogen atom without neighbors\n",
      "[15:03:45] WARNING: not removing hydrogen atom without neighbors\n",
      "[15:03:46] WARNING: not removing hydrogen atom without neighbors\n",
      "[15:03:46] WARNING: not removing hydrogen atom without neighbors\n",
      "[15:03:50] WARNING: not removing hydrogen atom without neighbors\n",
      "[15:03:57] WARNING: not removing hydrogen atom without neighbors\n",
      "[15:04:14] WARNING: not removing hydrogen atom without neighbors\n",
      "[15:04:20] WARNING: not removing hydrogen atom without neighbors\n",
      "[15:04:21] WARNING: not removing hydrogen atom without neighbors\n",
      "[15:04:35] WARNING: not removing hydrogen atom without neighbors\n",
      "[15:04:35] WARNING: not removing hydrogen atom without neighbors\n",
      "[15:04:35] WARNING: not removing hydrogen atom without neighbors\n",
      "[15:04:38] WARNING: not removing hydrogen atom without neighbors\n",
      "[15:04:54] WARNING: not removing hydrogen atom without neighbors\n"
     ]
    },
    {
     "name": "stdout",
     "output_type": "stream",
     "text": [
      "fold: 1\n"
     ]
    },
    {
     "name": "stderr",
     "output_type": "stream",
     "text": [
      "c:\\Users\\cbh2\\Documents\\ManyProp\\manypropenv\\Lib\\site-packages\\torch\\nn\\modules\\loss.py:1042: UserWarning: Using a target size (torch.Size([32])) that is different to the input size (torch.Size([32, 1])). This will likely lead to incorrect results due to broadcasting. Please ensure they have the same size.\n",
      "  return F.smooth_l1_loss(input, target, reduction=self.reduction, beta=self.beta)\n",
      "c:\\Users\\cbh2\\Documents\\ManyProp\\manypropenv\\Lib\\site-packages\\torch\\nn\\modules\\loss.py:1042: UserWarning: Using a target size (torch.Size([24])) that is different to the input size (torch.Size([24, 1])). This will likely lead to incorrect results due to broadcasting. Please ensure they have the same size.\n",
      "  return F.smooth_l1_loss(input, target, reduction=self.reduction, beta=self.beta)\n"
     ]
    },
    {
     "name": "stdout",
     "output_type": "stream",
     "text": [
      "epoch: 0 train_loss: 0.007871586801131479 — val_loss: 0.009529835458432194\n",
      "epoch: 1 train_loss: 0.006992840621566949 — val_loss: 0.009346069103914504\n",
      "epoch: 2 train_loss: 0.006953626422892938 — val_loss: 0.01017836580136333\n",
      "epoch: 3 train_loss: 0.006754349598312417 — val_loss: 0.009727718093332043\n",
      "epoch: 4 train_loss: 0.0067226676705556595 — val_loss: 0.009282292575409372\n",
      "epoch: 5 train_loss: 0.006719920453373773 — val_loss: 0.010618309347575322\n",
      "epoch: 6 train_loss: 0.006718874912912618 — val_loss: 0.00946529197348767\n",
      "epoch: 7 train_loss: 0.006769296594558732 — val_loss: 0.01054643917253469\n",
      "epoch: 8 train_loss: 0.0067643110978318705 — val_loss: 0.009127037431252129\n",
      "epoch: 9 train_loss: 0.006582261089529188 — val_loss: 0.010636956211294287\n",
      "epoch: 10 train_loss: 0.006646450753890009 — val_loss: 0.00970606826743219\n",
      "epoch: 11 train_loss: 0.0066685899273459595 — val_loss: 0.010323083140256645\n",
      "epoch: 12 train_loss: 0.0065827703029798755 — val_loss: 0.010628186717700494\n",
      "epoch: 13 train_loss: 0.006599108656376029 — val_loss: 0.009208731282562542\n",
      "epoch: 14 train_loss: 0.006690568678758858 — val_loss: 0.009927255056746529\n",
      "epoch: 15 train_loss: 0.006628470453128775 — val_loss: 0.009939800971819693\n",
      "epoch: 16 train_loss: 0.006626430589802049 — val_loss: 0.009548632018760076\n",
      "epoch: 17 train_loss: 0.006626001603654378 — val_loss: 0.009006717404923235\n",
      "epoch: 18 train_loss: 0.0066224052210325434 — val_loss: 0.011220448112671462\n",
      "epoch: 19 train_loss: 0.0066449378337557355 — val_loss: 0.01110678139024483\n",
      "epoch: 20 train_loss: 0.006559997152927265 — val_loss: 0.010469622568720001\n",
      "epoch: 21 train_loss: 0.006539433178941494 — val_loss: 0.010697292629971019\n",
      "epoch: 22 train_loss: 0.006670010906579424 — val_loss: 0.010917485300082541\n",
      "epoch: 23 train_loss: 0.006603565622139544 — val_loss: 0.010494195061830787\n",
      "epoch: 24 train_loss: 0.006664862062522228 — val_loss: 0.01000816564868947\n",
      "epoch: 25 train_loss: 0.006572650077574943 — val_loss: 0.011132791168954954\n",
      "epoch: 26 train_loss: 0.006598490563274914 — val_loss: 0.010415308233500838\n",
      "epoch: 27 train_loss: 0.0065022440297018 — val_loss: 0.009536938051681525\n",
      "epoch: 28 train_loss: 0.006446302063917394 — val_loss: 0.009946190114580615\n",
      "epoch: 29 train_loss: 0.006468361665984829 — val_loss: 0.009160458012050126\n"
     ]
    },
    {
     "name": "stderr",
     "output_type": "stream",
     "text": [
      "c:\\Users\\cbh2\\Documents\\ManyProp\\manypropenv\\Lib\\site-packages\\torch\\nn\\modules\\loss.py:1042: UserWarning: Using a target size (torch.Size([25])) that is different to the input size (torch.Size([25, 1])). This will likely lead to incorrect results due to broadcasting. Please ensure they have the same size.\n",
      "  return F.smooth_l1_loss(input, target, reduction=self.reduction, beta=self.beta)\n"
     ]
    },
    {
     "name": "stdout",
     "output_type": "stream",
     "text": [
      "results: {'mse': 0.7990881204605103, 'r2': 0.21134471893310547}, test_loss: 0.008817240317061319\n"
     ]
    },
    {
     "name": "stderr",
     "output_type": "stream",
     "text": [
      "[15:22:12] WARNING: not removing hydrogen atom without neighbors\n",
      "[15:22:18] WARNING: not removing hydrogen atom without neighbors\n",
      "[15:22:20] WARNING: not removing hydrogen atom without neighbors\n",
      "[15:22:20] WARNING: not removing hydrogen atom without neighbors\n",
      "[15:22:20] WARNING: not removing hydrogen atom without neighbors\n",
      "[15:22:22] WARNING: not removing hydrogen atom without neighbors\n",
      "[15:22:23] WARNING: not removing hydrogen atom without neighbors\n",
      "[15:22:26] WARNING: not removing hydrogen atom without neighbors\n",
      "[15:22:27] WARNING: not removing hydrogen atom without neighbors\n",
      "[15:22:31] WARNING: not removing hydrogen atom without neighbors\n",
      "[15:22:41] WARNING: not removing hydrogen atom without neighbors\n",
      "[15:22:47] WARNING: not removing hydrogen atom without neighbors\n",
      "[15:22:48] WARNING: not removing hydrogen atom without neighbors\n",
      "[15:22:52] WARNING: not removing hydrogen atom without neighbors\n",
      "[15:23:26] WARNING: not removing hydrogen atom without neighbors\n",
      "[15:23:28] WARNING: not removing hydrogen atom without neighbors\n"
     ]
    },
    {
     "name": "stdout",
     "output_type": "stream",
     "text": [
      "fold: 2\n"
     ]
    },
    {
     "name": "stderr",
     "output_type": "stream",
     "text": [
      "c:\\Users\\cbh2\\Documents\\ManyProp\\manypropenv\\Lib\\site-packages\\torch\\nn\\modules\\loss.py:1042: UserWarning: Using a target size (torch.Size([32])) that is different to the input size (torch.Size([32, 1])). This will likely lead to incorrect results due to broadcasting. Please ensure they have the same size.\n",
      "  return F.smooth_l1_loss(input, target, reduction=self.reduction, beta=self.beta)\n",
      "c:\\Users\\cbh2\\Documents\\ManyProp\\manypropenv\\Lib\\site-packages\\torch\\nn\\modules\\loss.py:1042: UserWarning: Using a target size (torch.Size([24])) that is different to the input size (torch.Size([24, 1])). This will likely lead to incorrect results due to broadcasting. Please ensure they have the same size.\n",
      "  return F.smooth_l1_loss(input, target, reduction=self.reduction, beta=self.beta)\n"
     ]
    },
    {
     "name": "stdout",
     "output_type": "stream",
     "text": [
      "epoch: 0 train_loss: 0.007700330009251787 — val_loss: 0.008809665921099774\n",
      "epoch: 1 train_loss: 0.007186476516959128 — val_loss: 0.009265450900796356\n",
      "epoch: 2 train_loss: 0.006965496622077897 — val_loss: 0.0087568111921321\n",
      "epoch: 3 train_loss: 0.006912402026151134 — val_loss: 0.011087403761158729\n",
      "epoch: 4 train_loss: 0.0067891866503036035 — val_loss: 0.009307126424419512\n",
      "epoch: 5 train_loss: 0.006812779638028491 — val_loss: 0.00944834984688639\n",
      "epoch: 6 train_loss: 0.006931402123893112 — val_loss: 0.008276796898710994\n",
      "epoch: 7 train_loss: 0.006925884085660903 — val_loss: 0.009466832366335375\n",
      "epoch: 8 train_loss: 0.006751416716190815 — val_loss: 0.008998373825709805\n",
      "epoch: 9 train_loss: 0.0068528940197799875 — val_loss: 0.008400494179818902\n",
      "epoch: 10 train_loss: 0.006713700823065458 — val_loss: 0.0099780123282131\n",
      "epoch: 11 train_loss: 0.00674320447566729 — val_loss: 0.009715071550665406\n",
      "epoch: 12 train_loss: 0.006692300743241648 — val_loss: 0.01003060620401112\n",
      "epoch: 13 train_loss: 0.006747859644409582 — val_loss: 0.011217560749623982\n",
      "epoch: 14 train_loss: 0.0067042192399449875 — val_loss: 0.008807270179529314\n",
      "epoch: 15 train_loss: 0.00666004541238308 — val_loss: 0.009721770092724704\n",
      "epoch: 16 train_loss: 0.006753107177634107 — val_loss: 0.010148547967637582\n",
      "epoch: 17 train_loss: 0.006691575581525601 — val_loss: 0.009165495077540288\n",
      "epoch: 18 train_loss: 0.006634771748571824 — val_loss: 0.010761457530239096\n",
      "epoch: 19 train_loss: 0.006698901253115756 — val_loss: 0.009687365326546652\n",
      "epoch: 20 train_loss: 0.006654554392028872 — val_loss: 0.010475314011823274\n",
      "epoch: 21 train_loss: 0.006695261657145677 — val_loss: 0.011399987802491608\n",
      "epoch: 22 train_loss: 0.006617582252650383 — val_loss: 0.009928746403127318\n",
      "epoch: 23 train_loss: 0.00670527136306055 — val_loss: 0.009186100007341635\n",
      "epoch: 24 train_loss: 0.006693833970141229 — val_loss: 0.009176635981133578\n",
      "epoch: 25 train_loss: 0.0066146555592245145 — val_loss: 0.009188223354482883\n",
      "epoch: 26 train_loss: 0.006654411424127335 — val_loss: 0.01124860794691373\n",
      "epoch: 27 train_loss: 0.006643249872487355 — val_loss: 0.00880715494424717\n",
      "epoch: 28 train_loss: 0.006676090345444651 — val_loss: 0.010485672534075145\n",
      "epoch: 29 train_loss: 0.006631452361474863 — val_loss: 0.010251264044808625\n"
     ]
    },
    {
     "name": "stderr",
     "output_type": "stream",
     "text": [
      "c:\\Users\\cbh2\\Documents\\ManyProp\\manypropenv\\Lib\\site-packages\\torch\\nn\\modules\\loss.py:1042: UserWarning: Using a target size (torch.Size([25])) that is different to the input size (torch.Size([25, 1])). This will likely lead to incorrect results due to broadcasting. Please ensure they have the same size.\n",
      "  return F.smooth_l1_loss(input, target, reduction=self.reduction, beta=self.beta)\n"
     ]
    },
    {
     "name": "stdout",
     "output_type": "stream",
     "text": [
      "results: {'mse': 0.6960816383361816, 'r2': 0.25716525316238403}, test_loss: 0.00989999666345442\n"
     ]
    }
   ],
   "source": [
    "losses = run_training(args=args)#, train_dl=train_dl, val_dl=val_dl) "
   ]
  },
  {
   "cell_type": "code",
   "execution_count": 6,
   "id": "5ccc7591",
   "metadata": {},
   "outputs": [
    {
     "data": {
      "image/png": "[encoded data removed]",
      "text/plain": [
       "<Figure size 640x480 with 2 Axes>"
      ]
     },
     "metadata": {},
     "output_type": "display_data"
    },
    {
     "data": {
      "image/png": "[encoded data removed]",
      "text/plain": [
       "<Figure size 640x480 with 2 Axes>"
      ]
     },
     "metadata": {},
     "output_type": "display_data"
    }
   ],
   "source": [
    "x = np.array([tup[1] for tup in losses])\n",
    "y = np.array([tup[2] for tup in losses])\n",
    "\n",
    "c = np.array([tup[0] for tup in losses])\n",
    "\n",
    "plt.scatter(x, y, c=c, cmap='viridis', alpha=0.9)\n",
    "plt.colorbar(label=\"fold\")\n",
    "\n",
    "plt.show()\n",
    "y = np.array([tup[3] for tup in losses])\n",
    "plt.scatter(x, y, c=c, cmap='viridis', alpha=0.9)\n",
    "plt.colorbar(label=\"fold\")\n",
    "\n",
    "plt.show()"
   ]
  },
  {
   "cell_type": "code",
   "execution_count": 12,
   "id": "99045ea7",
   "metadata": {},
   "outputs": [],
   "source": [
    "def make_plot(idx, losses_arr, title):\n",
    "    fold_losses = []\n",
    "\n",
    "    for n in range(args().num_folds):\n",
    "        fold_losses.append([])\n",
    "        for tup in losses_arr:\n",
    "            if tup[0]==n:\n",
    "                fold_losses[n].append(tup[idx])\n",
    "\n",
    "    avg_losses = []\n",
    "    avg_vars = []\n",
    "    for e in range(args().epochs):\n",
    "        losses_arr = []\n",
    "        \n",
    "        for f in fold_losses:\n",
    "            losses_arr.append(f[e])\n",
    "        avg_losses.append(np.mean(losses_arr).item())\n",
    "        avg_vars.append(np.var(losses_arr).item())\n",
    "    x=range(args().epochs)\n",
    "    a, b = np.polyfit(x, avg_losses, 1)\n",
    "\n",
    "    plt.errorbar(x=x,y=avg_losses, yerr=avg_vars, fmt='o', capsize=5)\n",
    "    plt.xlabel(\"epoch\")\n",
    "    plt.ylabel(\"loss\")\n",
    "    plt.title(title)\n",
    "    plt.plot(x, a*x+b)\n",
    "    plt.show()"
   ]
  },
  {
   "cell_type": "code",
   "execution_count": 13,
   "id": "907bca5c",
   "metadata": {},
   "outputs": [
    {
     "data": {
      "image/png": "[encoded data removed]",
      "text/plain": [
       "<Figure size 640x480 with 1 Axes>"
      ]
     },
     "metadata": {},
     "output_type": "display_data"
    },
    {
     "data": {
      "image/png": "[encoded data removed]",
      "text/plain": [
       "<Figure size 640x480 with 1 Axes>"
      ]
     },
     "metadata": {},
     "output_type": "display_data"
    }
   ],
   "source": [
    "make_plot(2, losses_arr=losses, title=\"Train Loss\")\n",
    "make_plot(3, losses_arr=losses, title=\"Val Loss\")"
   ]
  },
  {
   "cell_type": "code",
   "execution_count": 9,
   "id": "de809f87",
   "metadata": {},
   "outputs": [],
   "source": [
    "from ManyProp.data.testing import rand_mol\n"
   ]
  },
  {
   "cell_type": "code",
   "execution_count": 17,
   "id": "f950f7f5",
   "metadata": {},
   "outputs": [
    {
     "name": "stderr",
     "output_type": "stream",
     "text": [
      "[08:29:29] Explicit valence for atom # 19 N, 4, is greater than permitted\n",
      "[08:29:29] Can't kekulize mol.  Unkekulized atoms: 25 26 27\n",
      "[08:29:29] SMILES Parse Error: syntax error while parsing: CC=(O)(=O)C=1CCCCC1c1ccccc1(N(O)=O)CC(O)c1ccccc1CC\n",
      "[08:29:29] SMILES Parse Error: check for mistakes around position 4:\n",
      "[08:29:29] CC=(O)(=O)C=1CCCCC1c1ccccc1(N(O)=O)CC(O)c\n",
      "[08:29:29] ~~~^\n",
      "[08:29:29] SMILES Parse Error: Failed parsing SMILES 'CC=(O)(=O)C=1CCCCC1c1ccccc1(N(O)=O)CC(O)c1ccccc1CC' for input: 'CC=(O)(=O)C=1CCCCC1c1ccccc1(N(O)=O)CC(O)c1ccccc1CC'\n",
      "[08:29:29] Explicit valence for atom # 1 C, 5, is greater than permitted\n",
      "[08:29:29] Explicit valence for atom # 3 N, 4, is greater than permitted\n",
      "[08:29:29] SMILES Parse Error: syntax error while parsing: C(N(O)=O)C(CC)=(CCC)C=CCCC\n",
      "[08:29:29] SMILES Parse Error: check for mistakes around position 16:\n",
      "[08:29:29] C(N(O)=O)C(CC)=(CCC)C=CCCC\n",
      "[08:29:29] ~~~~~~~~~~~~~~~^\n",
      "[08:29:29] SMILES Parse Error: Failed parsing SMILES 'C(N(O)=O)C(CC)=(CCC)C=CCCC' for input: 'C(N(O)=O)C(CC)=(CCC)C=CCCC'\n"
     ]
    }
   ],
   "source": [
    "mol1 = rand_mol()\n",
    "mol2 = rand_mol()"
   ]
  },
  {
   "cell_type": "code",
   "execution_count": 18,
   "id": "5530df28",
   "metadata": {},
   "outputs": [
    {
     "data": {
      "image/png": "[encoded data removed]",
      "text/plain": [
       "<rdkit.Chem.rdchem.Mol at 0x265a25eb370>"
      ]
     },
     "execution_count": 18,
     "metadata": {},
     "output_type": "execute_result"
    }
   ],
   "source": [
    "Chem.MolFromSmiles(mol1)"
   ]
  },
  {
   "cell_type": "code",
   "execution_count": 19,
   "id": "99cd07d4",
   "metadata": {},
   "outputs": [
    {
     "data": {
      "image/png": "[encoded data removed]",
      "text/plain": [
       "<rdkit.Chem.rdchem.Mol at 0x265a25eb220>"
      ]
     },
     "execution_count": 19,
     "metadata": {},
     "output_type": "execute_result"
    }
   ],
   "source": [
    "Chem.MolFromSmiles(mol2)"
   ]
  },
  {
   "cell_type": "code",
   "execution_count": 27,
   "id": "f2dc6ec3",
   "metadata": {},
   "outputs": [
    {
     "name": "stdout",
     "output_type": "stream",
     "text": [
      "model_loaded:  <All keys matched successfully>\n",
      "model_loaded:  <All keys matched successfully>\n",
      "model_loaded:  <All keys matched successfully>\n",
      "prediction: 0.8471879230676305 - var: 0.006505434635026297\n"
     ]
    }
   ],
   "source": [
    "from ManyProp.model.predict import predict\n",
    "#[\"COCCOC\",\"CCCN\"]\n",
    "args().smiles = [mol1,mol2]\n",
    "args().mol_fracs = [0.25, 0.75]\n",
    "pred, var = predict(args=args)\n",
    "print(f\"prediction: {pred} - var: {var}\")"
   ]
  },
  {
   "cell_type": "markdown",
   "id": "da7be8f8",
   "metadata": {},
   "source": [
    "10**pred"
   ]
  },
  {
   "cell_type": "code",
   "execution_count": 28,
   "id": "bb06ce72",
   "metadata": {},
   "outputs": [
    {
     "name": "stdout",
     "output_type": "stream",
     "text": [
      "model_loaded:  <All keys matched successfully>\n",
      "model_loaded:  <All keys matched successfully>\n",
      "model_loaded:  <All keys matched successfully>\n",
      "model_loaded:  <All keys matched successfully>\n",
      "model_loaded:  <All keys matched successfully>\n",
      "model_loaded:  <All keys matched successfully>\n",
      "model_loaded:  <All keys matched successfully>\n",
      "model_loaded:  <All keys matched successfully>\n",
      "model_loaded:  <All keys matched successfully>\n",
      "model_loaded:  <All keys matched successfully>\n",
      "model_loaded:  <All keys matched successfully>\n",
      "model_loaded:  <All keys matched successfully>\n",
      "model_loaded:  <All keys matched successfully>\n",
      "model_loaded:  <All keys matched successfully>\n",
      "model_loaded:  <All keys matched successfully>\n",
      "model_loaded:  <All keys matched successfully>\n",
      "model_loaded:  <All keys matched successfully>\n",
      "model_loaded:  <All keys matched successfully>\n",
      "model_loaded:  <All keys matched successfully>\n",
      "model_loaded:  <All keys matched successfully>\n",
      "model_loaded:  <All keys matched successfully>\n",
      "model_loaded:  <All keys matched successfully>\n",
      "model_loaded:  <All keys matched successfully>\n",
      "model_loaded:  <All keys matched successfully>\n",
      "model_loaded:  <All keys matched successfully>\n",
      "model_loaded:  <All keys matched successfully>\n",
      "model_loaded:  <All keys matched successfully>\n"
     ]
    },
    {
     "data": {
      "image/png": "[encoded data removed]",
      "text/plain": [
       "<Figure size 640x480 with 1 Axes>"
      ]
     },
     "metadata": {},
     "output_type": "display_data"
    }
   ],
   "source": [
    "from ManyProp.model.predict import predict_graph\n",
    "import matplotlib.pyplot as plt\n",
    "fracs, predictions, vars = predict_graph(args)\n",
    "\n",
    "plt.xlabel(\"Mol 1 contrib\")\n",
    "plt.ylabel(\"Visc\")\n",
    "plt.errorbar(x=fracs,y=predictions, yerr=vars, fmt='o', capsize=5)\n",
    "plt.show()\n"
   ]
  },
  {
   "cell_type": "markdown",
   "id": "14a8060b",
   "metadata": {},
   "source": [
    "0.10665317578241229 "
   ]
  },
  {
   "cell_type": "markdown",
   "id": "775b2745",
   "metadata": {},
   "source": [
    "0.9376093910024833\n",
    "1.4904445287051609"
   ]
  },
  {
   "cell_type": "code",
   "execution_count": null,
   "id": "d06ba848",
   "metadata": {},
   "outputs": [
    {
     "name": "stderr",
     "output_type": "stream",
     "text": [
      "[10:34:16] WARNING: not removing hydrogen atom without neighbors\n",
      "[10:34:25] WARNING: not removing hydrogen atom without neighbors\n",
      "[10:34:31] WARNING: not removing hydrogen atom without neighbors\n",
      "[10:34:33] WARNING: not removing hydrogen atom without neighbors\n",
      "[10:34:40] WARNING: not removing hydrogen atom without neighbors\n",
      "[10:34:43] WARNING: not removing hydrogen atom without neighbors\n",
      "[10:34:43] WARNING: not removing hydrogen atom without neighbors\n",
      "[10:34:49] WARNING: not removing hydrogen atom without neighbors\n",
      "[10:34:57] WARNING: not removing hydrogen atom without neighbors\n",
      "[10:35:07] WARNING: not removing hydrogen atom without neighbors\n",
      "[10:35:10] WARNING: not removing hydrogen atom without neighbors\n",
      "[10:35:11] WARNING: not removing hydrogen atom without neighbors\n",
      "[10:35:16] WARNING: not removing hydrogen atom without neighbors\n",
      "[10:35:26] WARNING: not removing hydrogen atom without neighbors\n",
      "[10:35:29] WARNING: not removing hydrogen atom without neighbors\n",
      "[10:35:41] WARNING: not removing hydrogen atom without neighbors\n",
      "💡 Tip: For seamless cloud uploads and versioning, try installing [litmodels](https://pypi.org/project/litmodels/) to enable LitModelCheckpoint, which syncs automatically with the Lightning model registry.\n",
      "GPU available: True (cuda), used: True\n",
      "TPU available: False, using: 0 TPU cores\n",
      "HPU available: False, using: 0 HPUs\n",
      "LOCAL_RANK: 0 - CUDA_VISIBLE_DEVICES: [0]\n",
      "\n",
      "  | Name    | Type      | Params | Mode \n",
      "----------------------------------------------\n",
      "0 | loss_fn | MSELoss   | 0      | train\n",
      "1 | dropout | Dropout   | 0      | train\n",
      "2 | mp1     | MPNNLayer | 7.2 K  | train\n",
      "3 | mp2     | MPNNLayer | 4.2 K  | train\n",
      "4 | fc      | Linear    | 65     | train\n",
      "----------------------------------------------\n",
      "11.4 K    Trainable params\n",
      "0         Non-trainable params\n",
      "11.4 K    Total params\n",
      "0.046     Total estimated model params size (MB)\n",
      "9         Modules in train mode\n",
      "0         Modules in eval mode\n"
     ]
    },
    {
     "name": "stdout",
     "output_type": "stream",
     "text": [
      "fold: 0\n",
      "                                                                           "
     ]
    },
    {
     "name": "stderr",
     "output_type": "stream",
     "text": [
      "c:\\Users\\cbh2\\Documents\\ManyProp\\manypropenv\\Lib\\site-packages\\pytorch_lightning\\trainer\\connectors\\data_connector.py:476: Your `val_dataloader`'s sampler has shuffling enabled, it is strongly recommended that you turn shuffling off for val/test dataloaders.\n",
      "c:\\Users\\cbh2\\Documents\\ManyProp\\manypropenv\\Lib\\site-packages\\pytorch_lightning\\trainer\\connectors\\data_connector.py:425: The 'val_dataloader' does not have many workers which may be a bottleneck. Consider increasing the value of the `num_workers` argument` to `num_workers=27` in the `DataLoader` to improve performance.\n",
      "c:\\Users\\cbh2\\Documents\\ManyProp\\manypropenv\\Lib\\site-packages\\pytorch_lightning\\utilities\\data.py:79: Trying to infer the `batch_size` from an ambiguous collection. The batch size we found is 390. To avoid any miscalculations, use `self.log(..., batch_size=batch_size)`.\n",
      "c:\\Users\\cbh2\\Documents\\ManyProp\\manypropenv\\Lib\\site-packages\\pytorch_lightning\\utilities\\data.py:79: Trying to infer the `batch_size` from an ambiguous collection. The batch size we found is 383. To avoid any miscalculations, use `self.log(..., batch_size=batch_size)`.\n",
      "c:\\Users\\cbh2\\Documents\\ManyProp\\manypropenv\\Lib\\site-packages\\pytorch_lightning\\trainer\\connectors\\data_connector.py:425: The 'train_dataloader' does not have many workers which may be a bottleneck. Consider increasing the value of the `num_workers` argument` to `num_workers=27` in the `DataLoader` to improve performance.\n"
     ]
    },
    {
     "name": "stdout",
     "output_type": "stream",
     "text": [
      "Epoch 0: 100%|██████████| 2726/2726 [00:27<00:00, 99.18it/s, v_num=18] "
     ]
    },
    {
     "name": "stderr",
     "output_type": "stream",
     "text": [
      "c:\\Users\\cbh2\\Documents\\ManyProp\\manypropenv\\Lib\\site-packages\\pytorch_lightning\\utilities\\data.py:79: Trying to infer the `batch_size` from an ambiguous collection. The batch size we found is 369. To avoid any miscalculations, use `self.log(..., batch_size=batch_size)`.\n",
      "c:\\Users\\cbh2\\Documents\\ManyProp\\manypropenv\\Lib\\site-packages\\pytorch_lightning\\utilities\\data.py:79: Trying to infer the `batch_size` from an ambiguous collection. The batch size we found is 407. To avoid any miscalculations, use `self.log(..., batch_size=batch_size)`.\n",
      "c:\\Users\\cbh2\\Documents\\ManyProp\\manypropenv\\Lib\\site-packages\\pytorch_lightning\\utilities\\data.py:79: Trying to infer the `batch_size` from an ambiguous collection. The batch size we found is 356. To avoid any miscalculations, use `self.log(..., batch_size=batch_size)`.\n",
      "c:\\Users\\cbh2\\Documents\\ManyProp\\manypropenv\\Lib\\site-packages\\pytorch_lightning\\utilities\\data.py:79: Trying to infer the `batch_size` from an ambiguous collection. The batch size we found is 420. To avoid any miscalculations, use `self.log(..., batch_size=batch_size)`.\n",
      "c:\\Users\\cbh2\\Documents\\ManyProp\\manypropenv\\Lib\\site-packages\\pytorch_lightning\\utilities\\data.py:79: Trying to infer the `batch_size` from an ambiguous collection. The batch size we found is 379. To avoid any miscalculations, use `self.log(..., batch_size=batch_size)`.\n",
      "c:\\Users\\cbh2\\Documents\\ManyProp\\manypropenv\\Lib\\site-packages\\pytorch_lightning\\utilities\\data.py:79: Trying to infer the `batch_size` from an ambiguous collection. The batch size we found is 432. To avoid any miscalculations, use `self.log(..., batch_size=batch_size)`.\n",
      "c:\\Users\\cbh2\\Documents\\ManyProp\\manypropenv\\Lib\\site-packages\\pytorch_lightning\\utilities\\data.py:79: Trying to infer the `batch_size` from an ambiguous collection. The batch size we found is 395. To avoid any miscalculations, use `self.log(..., batch_size=batch_size)`.\n",
      "c:\\Users\\cbh2\\Documents\\ManyProp\\manypropenv\\Lib\\site-packages\\pytorch_lightning\\utilities\\data.py:79: Trying to infer the `batch_size` from an ambiguous collection. The batch size we found is 398. To avoid any miscalculations, use `self.log(..., batch_size=batch_size)`.\n",
      "c:\\Users\\cbh2\\Documents\\ManyProp\\manypropenv\\Lib\\site-packages\\pytorch_lightning\\utilities\\data.py:79: Trying to infer the `batch_size` from an ambiguous collection. The batch size we found is 391. To avoid any miscalculations, use `self.log(..., batch_size=batch_size)`.\n",
      "c:\\Users\\cbh2\\Documents\\ManyProp\\manypropenv\\Lib\\site-packages\\pytorch_lightning\\utilities\\data.py:79: Trying to infer the `batch_size` from an ambiguous collection. The batch size we found is 382. To avoid any miscalculations, use `self.log(..., batch_size=batch_size)`.\n",
      "c:\\Users\\cbh2\\Documents\\ManyProp\\manypropenv\\Lib\\site-packages\\pytorch_lightning\\utilities\\data.py:79: Trying to infer the `batch_size` from an ambiguous collection. The batch size we found is 430. To avoid any miscalculations, use `self.log(..., batch_size=batch_size)`.\n",
      "c:\\Users\\cbh2\\Documents\\ManyProp\\manypropenv\\Lib\\site-packages\\pytorch_lightning\\utilities\\data.py:79: Trying to infer the `batch_size` from an ambiguous collection. The batch size we found is 423. To avoid any miscalculations, use `self.log(..., batch_size=batch_size)`.\n",
      "c:\\Users\\cbh2\\Documents\\ManyProp\\manypropenv\\Lib\\site-packages\\pytorch_lightning\\utilities\\data.py:79: Trying to infer the `batch_size` from an ambiguous collection. The batch size we found is 389. To avoid any miscalculations, use `self.log(..., batch_size=batch_size)`.\n",
      "c:\\Users\\cbh2\\Documents\\ManyProp\\manypropenv\\Lib\\site-packages\\pytorch_lightning\\utilities\\data.py:79: Trying to infer the `batch_size` from an ambiguous collection. The batch size we found is 373. To avoid any miscalculations, use `self.log(..., batch_size=batch_size)`.\n",
      "c:\\Users\\cbh2\\Documents\\ManyProp\\manypropenv\\Lib\\site-packages\\pytorch_lightning\\utilities\\data.py:79: Trying to infer the `batch_size` from an ambiguous collection. The batch size we found is 418. To avoid any miscalculations, use `self.log(..., batch_size=batch_size)`.\n",
      "c:\\Users\\cbh2\\Documents\\ManyProp\\manypropenv\\Lib\\site-packages\\pytorch_lightning\\utilities\\data.py:79: Trying to infer the `batch_size` from an ambiguous collection. The batch size we found is 393. To avoid any miscalculations, use `self.log(..., batch_size=batch_size)`.\n",
      "c:\\Users\\cbh2\\Documents\\ManyProp\\manypropenv\\Lib\\site-packages\\pytorch_lightning\\utilities\\data.py:79: Trying to infer the `batch_size` from an ambiguous collection. The batch size we found is 397. To avoid any miscalculations, use `self.log(..., batch_size=batch_size)`.\n",
      "c:\\Users\\cbh2\\Documents\\ManyProp\\manypropenv\\Lib\\site-packages\\pytorch_lightning\\utilities\\data.py:79: Trying to infer the `batch_size` from an ambiguous collection. The batch size we found is 353. To avoid any miscalculations, use `self.log(..., batch_size=batch_size)`.\n",
      "c:\\Users\\cbh2\\Documents\\ManyProp\\manypropenv\\Lib\\site-packages\\pytorch_lightning\\utilities\\data.py:79: Trying to infer the `batch_size` from an ambiguous collection. The batch size we found is 427. To avoid any miscalculations, use `self.log(..., batch_size=batch_size)`.\n"
     ]
    },
    {
     "name": "stdout",
     "output_type": "stream",
     "text": []
    },
    {
     "name": "stderr",
     "output_type": "stream",
     "text": [
      "c:\\Users\\cbh2\\Documents\\ManyProp\\manypropenv\\Lib\\site-packages\\pytorch_lightning\\utilities\\data.py:79: Trying to infer the `batch_size` from an ambiguous collection. The batch size we found is 394. To avoid any miscalculations, use `self.log(..., batch_size=batch_size)`.\n",
      "c:\\Users\\cbh2\\Documents\\ManyProp\\manypropenv\\Lib\\site-packages\\pytorch_lightning\\utilities\\data.py:79: Trying to infer the `batch_size` from an ambiguous collection. The batch size we found is 372. To avoid any miscalculations, use `self.log(..., batch_size=batch_size)`.\n",
      "c:\\Users\\cbh2\\Documents\\ManyProp\\manypropenv\\Lib\\site-packages\\pytorch_lightning\\utilities\\data.py:79: Trying to infer the `batch_size` from an ambiguous collection. The batch size we found is 425. To avoid any miscalculations, use `self.log(..., batch_size=batch_size)`.\n",
      "c:\\Users\\cbh2\\Documents\\ManyProp\\manypropenv\\Lib\\site-packages\\pytorch_lightning\\utilities\\data.py:79: Trying to infer the `batch_size` from an ambiguous collection. The batch size we found is 429. To avoid any miscalculations, use `self.log(..., batch_size=batch_size)`.\n",
      "c:\\Users\\cbh2\\Documents\\ManyProp\\manypropenv\\Lib\\site-packages\\pytorch_lightning\\utilities\\data.py:79: Trying to infer the `batch_size` from an ambiguous collection. The batch size we found is 388. To avoid any miscalculations, use `self.log(..., batch_size=batch_size)`.\n",
      "c:\\Users\\cbh2\\Documents\\ManyProp\\manypropenv\\Lib\\site-packages\\pytorch_lightning\\utilities\\data.py:79: Trying to infer the `batch_size` from an ambiguous collection. The batch size we found is 408. To avoid any miscalculations, use `self.log(..., batch_size=batch_size)`.\n",
      "c:\\Users\\cbh2\\Documents\\ManyProp\\manypropenv\\Lib\\site-packages\\pytorch_lightning\\utilities\\data.py:79: Trying to infer the `batch_size` from an ambiguous collection. The batch size we found is 396. To avoid any miscalculations, use `self.log(..., batch_size=batch_size)`.\n",
      "c:\\Users\\cbh2\\Documents\\ManyProp\\manypropenv\\Lib\\site-packages\\pytorch_lightning\\utilities\\data.py:79: Trying to infer the `batch_size` from an ambiguous collection. The batch size we found is 406. To avoid any miscalculations, use `self.log(..., batch_size=batch_size)`.\n",
      "c:\\Users\\cbh2\\Documents\\ManyProp\\manypropenv\\Lib\\site-packages\\pytorch_lightning\\utilities\\data.py:79: Trying to infer the `batch_size` from an ambiguous collection. The batch size we found is 417. To avoid any miscalculations, use `self.log(..., batch_size=batch_size)`.\n",
      "c:\\Users\\cbh2\\Documents\\ManyProp\\manypropenv\\Lib\\site-packages\\pytorch_lightning\\utilities\\data.py:79: Trying to infer the `batch_size` from an ambiguous collection. The batch size we found is 377. To avoid any miscalculations, use `self.log(..., batch_size=batch_size)`.\n",
      "c:\\Users\\cbh2\\Documents\\ManyProp\\manypropenv\\Lib\\site-packages\\pytorch_lightning\\utilities\\data.py:79: Trying to infer the `batch_size` from an ambiguous collection. The batch size we found is 365. To avoid any miscalculations, use `self.log(..., batch_size=batch_size)`.\n",
      "c:\\Users\\cbh2\\Documents\\ManyProp\\manypropenv\\Lib\\site-packages\\pytorch_lightning\\utilities\\data.py:79: Trying to infer the `batch_size` from an ambiguous collection. The batch size we found is 413. To avoid any miscalculations, use `self.log(..., batch_size=batch_size)`.\n"
     ]
    },
    {
     "name": "stdout",
     "output_type": "stream",
     "text": []
    },
    {
     "name": "stderr",
     "output_type": "stream",
     "text": [
      "c:\\Users\\cbh2\\Documents\\ManyProp\\manypropenv\\Lib\\site-packages\\pytorch_lightning\\utilities\\data.py:79: Trying to infer the `batch_size` from an ambiguous collection. The batch size we found is 360. To avoid any miscalculations, use `self.log(..., batch_size=batch_size)`.\n",
      "c:\\Users\\cbh2\\Documents\\ManyProp\\manypropenv\\Lib\\site-packages\\pytorch_lightning\\utilities\\data.py:79: Trying to infer the `batch_size` from an ambiguous collection. The batch size we found is 405. To avoid any miscalculations, use `self.log(..., batch_size=batch_size)`.\n",
      "c:\\Users\\cbh2\\Documents\\ManyProp\\manypropenv\\Lib\\site-packages\\pytorch_lightning\\utilities\\data.py:79: Trying to infer the `batch_size` from an ambiguous collection. The batch size we found is 411. To avoid any miscalculations, use `self.log(..., batch_size=batch_size)`.\n",
      "c:\\Users\\cbh2\\Documents\\ManyProp\\manypropenv\\Lib\\site-packages\\pytorch_lightning\\utilities\\data.py:79: Trying to infer the `batch_size` from an ambiguous collection. The batch size we found is 355. To avoid any miscalculations, use `self.log(..., batch_size=batch_size)`.\n",
      "c:\\Users\\cbh2\\Documents\\ManyProp\\manypropenv\\Lib\\site-packages\\pytorch_lightning\\utilities\\data.py:79: Trying to infer the `batch_size` from an ambiguous collection. The batch size we found is 422. To avoid any miscalculations, use `self.log(..., batch_size=batch_size)`.\n",
      "c:\\Users\\cbh2\\Documents\\ManyProp\\manypropenv\\Lib\\site-packages\\pytorch_lightning\\utilities\\data.py:79: Trying to infer the `batch_size` from an ambiguous collection. The batch size we found is 402. To avoid any miscalculations, use `self.log(..., batch_size=batch_size)`.\n",
      "c:\\Users\\cbh2\\Documents\\ManyProp\\manypropenv\\Lib\\site-packages\\pytorch_lightning\\utilities\\data.py:79: Trying to infer the `batch_size` from an ambiguous collection. The batch size we found is 371. To avoid any miscalculations, use `self.log(..., batch_size=batch_size)`.\n",
      "c:\\Users\\cbh2\\Documents\\ManyProp\\manypropenv\\Lib\\site-packages\\pytorch_lightning\\utilities\\data.py:79: Trying to infer the `batch_size` from an ambiguous collection. The batch size we found is 438. To avoid any miscalculations, use `self.log(..., batch_size=batch_size)`.\n",
      "c:\\Users\\cbh2\\Documents\\ManyProp\\manypropenv\\Lib\\site-packages\\pytorch_lightning\\utilities\\data.py:79: Trying to infer the `batch_size` from an ambiguous collection. The batch size we found is 415. To avoid any miscalculations, use `self.log(..., batch_size=batch_size)`.\n",
      "c:\\Users\\cbh2\\Documents\\ManyProp\\manypropenv\\Lib\\site-packages\\pytorch_lightning\\utilities\\data.py:79: Trying to infer the `batch_size` from an ambiguous collection. The batch size we found is 347. To avoid any miscalculations, use `self.log(..., batch_size=batch_size)`.\n",
      "c:\\Users\\cbh2\\Documents\\ManyProp\\manypropenv\\Lib\\site-packages\\pytorch_lightning\\utilities\\data.py:79: Trying to infer the `batch_size` from an ambiguous collection. The batch size we found is 376. To avoid any miscalculations, use `self.log(..., batch_size=batch_size)`.\n",
      "c:\\Users\\cbh2\\Documents\\ManyProp\\manypropenv\\Lib\\site-packages\\pytorch_lightning\\utilities\\data.py:79: Trying to infer the `batch_size` from an ambiguous collection. The batch size we found is 450. To avoid any miscalculations, use `self.log(..., batch_size=batch_size)`.\n",
      "c:\\Users\\cbh2\\Documents\\ManyProp\\manypropenv\\Lib\\site-packages\\pytorch_lightning\\utilities\\data.py:79: Trying to infer the `batch_size` from an ambiguous collection. The batch size we found is 400. To avoid any miscalculations, use `self.log(..., batch_size=batch_size)`.\n",
      "c:\\Users\\cbh2\\Documents\\ManyProp\\manypropenv\\Lib\\site-packages\\pytorch_lightning\\utilities\\data.py:79: Trying to infer the `batch_size` from an ambiguous collection. The batch size we found is 404. To avoid any miscalculations, use `self.log(..., batch_size=batch_size)`.\n",
      "c:\\Users\\cbh2\\Documents\\ManyProp\\manypropenv\\Lib\\site-packages\\pytorch_lightning\\utilities\\data.py:79: Trying to infer the `batch_size` from an ambiguous collection. The batch size we found is 375. To avoid any miscalculations, use `self.log(..., batch_size=batch_size)`.\n",
      "c:\\Users\\cbh2\\Documents\\ManyProp\\manypropenv\\Lib\\site-packages\\pytorch_lightning\\utilities\\data.py:79: Trying to infer the `batch_size` from an ambiguous collection. The batch size we found is 368. To avoid any miscalculations, use `self.log(..., batch_size=batch_size)`.\n",
      "c:\\Users\\cbh2\\Documents\\ManyProp\\manypropenv\\Lib\\site-packages\\pytorch_lightning\\utilities\\data.py:79: Trying to infer the `batch_size` from an ambiguous collection. The batch size we found is 349. To avoid any miscalculations, use `self.log(..., batch_size=batch_size)`.\n"
     ]
    },
    {
     "name": "stdout",
     "output_type": "stream",
     "text": []
    },
    {
     "name": "stderr",
     "output_type": "stream",
     "text": [
      "c:\\Users\\cbh2\\Documents\\ManyProp\\manypropenv\\Lib\\site-packages\\pytorch_lightning\\utilities\\data.py:79: Trying to infer the `batch_size` from an ambiguous collection. The batch size we found is 401. To avoid any miscalculations, use `self.log(..., batch_size=batch_size)`.\n",
      "c:\\Users\\cbh2\\Documents\\ManyProp\\manypropenv\\Lib\\site-packages\\pytorch_lightning\\utilities\\data.py:79: Trying to infer the `batch_size` from an ambiguous collection. The batch size we found is 437. To avoid any miscalculations, use `self.log(..., batch_size=batch_size)`.\n",
      "c:\\Users\\cbh2\\Documents\\ManyProp\\manypropenv\\Lib\\site-packages\\pytorch_lightning\\utilities\\data.py:79: Trying to infer the `batch_size` from an ambiguous collection. The batch size we found is 456. To avoid any miscalculations, use `self.log(..., batch_size=batch_size)`.\n",
      "c:\\Users\\cbh2\\Documents\\ManyProp\\manypropenv\\Lib\\site-packages\\pytorch_lightning\\utilities\\data.py:79: Trying to infer the `batch_size` from an ambiguous collection. The batch size we found is 434. To avoid any miscalculations, use `self.log(..., batch_size=batch_size)`.\n",
      "c:\\Users\\cbh2\\Documents\\ManyProp\\manypropenv\\Lib\\site-packages\\pytorch_lightning\\utilities\\data.py:79: Trying to infer the `batch_size` from an ambiguous collection. The batch size we found is 386. To avoid any miscalculations, use `self.log(..., batch_size=batch_size)`.\n",
      "c:\\Users\\cbh2\\Documents\\ManyProp\\manypropenv\\Lib\\site-packages\\pytorch_lightning\\utilities\\data.py:79: Trying to infer the `batch_size` from an ambiguous collection. The batch size we found is 431. To avoid any miscalculations, use `self.log(..., batch_size=batch_size)`.\n",
      "c:\\Users\\cbh2\\Documents\\ManyProp\\manypropenv\\Lib\\site-packages\\pytorch_lightning\\utilities\\data.py:79: Trying to infer the `batch_size` from an ambiguous collection. The batch size we found is 460. To avoid any miscalculations, use `self.log(..., batch_size=batch_size)`.\n",
      "c:\\Users\\cbh2\\Documents\\ManyProp\\manypropenv\\Lib\\site-packages\\pytorch_lightning\\utilities\\data.py:79: Trying to infer the `batch_size` from an ambiguous collection. The batch size we found is 364. To avoid any miscalculations, use `self.log(..., batch_size=batch_size)`.\n",
      "c:\\Users\\cbh2\\Documents\\ManyProp\\manypropenv\\Lib\\site-packages\\pytorch_lightning\\utilities\\data.py:79: Trying to infer the `batch_size` from an ambiguous collection. The batch size we found is 387. To avoid any miscalculations, use `self.log(..., batch_size=batch_size)`.\n",
      "c:\\Users\\cbh2\\Documents\\ManyProp\\manypropenv\\Lib\\site-packages\\pytorch_lightning\\utilities\\data.py:79: Trying to infer the `batch_size` from an ambiguous collection. The batch size we found is 343. To avoid any miscalculations, use `self.log(..., batch_size=batch_size)`.\n"
     ]
    },
    {
     "name": "stdout",
     "output_type": "stream",
     "text": [
      "\n"
     ]
    },
    {
     "name": "stderr",
     "output_type": "stream",
     "text": [
      "c:\\Users\\cbh2\\Documents\\ManyProp\\manypropenv\\Lib\\site-packages\\pytorch_lightning\\utilities\\data.py:79: Trying to infer the `batch_size` from an ambiguous collection. The batch size we found is 370. To avoid any miscalculations, use `self.log(..., batch_size=batch_size)`.\n",
      "c:\\Users\\cbh2\\Documents\\ManyProp\\manypropenv\\Lib\\site-packages\\pytorch_lightning\\utilities\\data.py:79: Trying to infer the `batch_size` from an ambiguous collection. The batch size we found is 412. To avoid any miscalculations, use `self.log(..., batch_size=batch_size)`.\n",
      "c:\\Users\\cbh2\\Documents\\ManyProp\\manypropenv\\Lib\\site-packages\\pytorch_lightning\\utilities\\data.py:79: Trying to infer the `batch_size` from an ambiguous collection. The batch size we found is 428. To avoid any miscalculations, use `self.log(..., batch_size=batch_size)`.\n",
      "c:\\Users\\cbh2\\Documents\\ManyProp\\manypropenv\\Lib\\site-packages\\pytorch_lightning\\utilities\\data.py:79: Trying to infer the `batch_size` from an ambiguous collection. The batch size we found is 358. To avoid any miscalculations, use `self.log(..., batch_size=batch_size)`.\n",
      "c:\\Users\\cbh2\\Documents\\ManyProp\\manypropenv\\Lib\\site-packages\\pytorch_lightning\\utilities\\data.py:79: Trying to infer the `batch_size` from an ambiguous collection. The batch size we found is 409. To avoid any miscalculations, use `self.log(..., batch_size=batch_size)`.\n",
      "c:\\Users\\cbh2\\Documents\\ManyProp\\manypropenv\\Lib\\site-packages\\pytorch_lightning\\utilities\\data.py:79: Trying to infer the `batch_size` from an ambiguous collection. The batch size we found is 380. To avoid any miscalculations, use `self.log(..., batch_size=batch_size)`.\n",
      "c:\\Users\\cbh2\\Documents\\ManyProp\\manypropenv\\Lib\\site-packages\\pytorch_lightning\\utilities\\data.py:79: Trying to infer the `batch_size` from an ambiguous collection. The batch size we found is 414. To avoid any miscalculations, use `self.log(..., batch_size=batch_size)`.\n",
      "c:\\Users\\cbh2\\Documents\\ManyProp\\manypropenv\\Lib\\site-packages\\pytorch_lightning\\utilities\\data.py:79: Trying to infer the `batch_size` from an ambiguous collection. The batch size we found is 344. To avoid any miscalculations, use `self.log(..., batch_size=batch_size)`.\n"
     ]
    },
    {
     "name": "stdout",
     "output_type": "stream",
     "text": [
      "Validation DataLoader 0:  35%|███▌      | 121/341 [00:01<00:02, 109.78it/s]\u001b[A"
     ]
    },
    {
     "name": "stderr",
     "output_type": "stream",
     "text": [
      "c:\\Users\\cbh2\\Documents\\ManyProp\\manypropenv\\Lib\\site-packages\\pytorch_lightning\\utilities\\data.py:79: Trying to infer the `batch_size` from an ambiguous collection. The batch size we found is 381. To avoid any miscalculations, use `self.log(..., batch_size=batch_size)`.\n",
      "c:\\Users\\cbh2\\Documents\\ManyProp\\manypropenv\\Lib\\site-packages\\pytorch_lightning\\utilities\\data.py:79: Trying to infer the `batch_size` from an ambiguous collection. The batch size we found is 348. To avoid any miscalculations, use `self.log(..., batch_size=batch_size)`.\n",
      "c:\\Users\\cbh2\\Documents\\ManyProp\\manypropenv\\Lib\\site-packages\\pytorch_lightning\\utilities\\data.py:79: Trying to infer the `batch_size` from an ambiguous collection. The batch size we found is 363. To avoid any miscalculations, use `self.log(..., batch_size=batch_size)`.\n",
      "c:\\Users\\cbh2\\Documents\\ManyProp\\manypropenv\\Lib\\site-packages\\pytorch_lightning\\utilities\\data.py:79: Trying to infer the `batch_size` from an ambiguous collection. The batch size we found is 384. To avoid any miscalculations, use `self.log(..., batch_size=batch_size)`.\n",
      "c:\\Users\\cbh2\\Documents\\ManyProp\\manypropenv\\Lib\\site-packages\\pytorch_lightning\\utilities\\data.py:79: Trying to infer the `batch_size` from an ambiguous collection. The batch size we found is 416. To avoid any miscalculations, use `self.log(..., batch_size=batch_size)`.\n",
      "c:\\Users\\cbh2\\Documents\\ManyProp\\manypropenv\\Lib\\site-packages\\pytorch_lightning\\utilities\\data.py:79: Trying to infer the `batch_size` from an ambiguous collection. The batch size we found is 392. To avoid any miscalculations, use `self.log(..., batch_size=batch_size)`.\n",
      "c:\\Users\\cbh2\\Documents\\ManyProp\\manypropenv\\Lib\\site-packages\\pytorch_lightning\\utilities\\data.py:79: Trying to infer the `batch_size` from an ambiguous collection. The batch size we found is 359. To avoid any miscalculations, use `self.log(..., batch_size=batch_size)`.\n",
      "c:\\Users\\cbh2\\Documents\\ManyProp\\manypropenv\\Lib\\site-packages\\pytorch_lightning\\utilities\\data.py:79: Trying to infer the `batch_size` from an ambiguous collection. The batch size we found is 361. To avoid any miscalculations, use `self.log(..., batch_size=batch_size)`.\n"
     ]
    },
    {
     "name": "stdout",
     "output_type": "stream",
     "text": [
      "\n"
     ]
    },
    {
     "name": "stderr",
     "output_type": "stream",
     "text": [
      "c:\\Users\\cbh2\\Documents\\ManyProp\\manypropenv\\Lib\\site-packages\\pytorch_lightning\\utilities\\data.py:79: Trying to infer the `batch_size` from an ambiguous collection. The batch size we found is 421. To avoid any miscalculations, use `self.log(..., batch_size=batch_size)`.\n",
      "c:\\Users\\cbh2\\Documents\\ManyProp\\manypropenv\\Lib\\site-packages\\pytorch_lightning\\utilities\\data.py:79: Trying to infer the `batch_size` from an ambiguous collection. The batch size we found is 439. To avoid any miscalculations, use `self.log(..., batch_size=batch_size)`.\n",
      "c:\\Users\\cbh2\\Documents\\ManyProp\\manypropenv\\Lib\\site-packages\\pytorch_lightning\\utilities\\data.py:79: Trying to infer the `batch_size` from an ambiguous collection. The batch size we found is 385. To avoid any miscalculations, use `self.log(..., batch_size=batch_size)`.\n",
      "c:\\Users\\cbh2\\Documents\\ManyProp\\manypropenv\\Lib\\site-packages\\pytorch_lightning\\utilities\\data.py:79: Trying to infer the `batch_size` from an ambiguous collection. The batch size we found is 446. To avoid any miscalculations, use `self.log(..., batch_size=batch_size)`.\n",
      "c:\\Users\\cbh2\\Documents\\ManyProp\\manypropenv\\Lib\\site-packages\\pytorch_lightning\\utilities\\data.py:79: Trying to infer the `batch_size` from an ambiguous collection. The batch size we found is 399. To avoid any miscalculations, use `self.log(..., batch_size=batch_size)`.\n",
      "c:\\Users\\cbh2\\Documents\\ManyProp\\manypropenv\\Lib\\site-packages\\pytorch_lightning\\utilities\\data.py:79: Trying to infer the `batch_size` from an ambiguous collection. The batch size we found is 424. To avoid any miscalculations, use `self.log(..., batch_size=batch_size)`.\n"
     ]
    },
    {
     "name": "stdout",
     "output_type": "stream",
     "text": [
      "Validation DataLoader 0:  52%|█████▏    | 178/341 [00:01<00:01, 113.03it/s]\u001b[A"
     ]
    },
    {
     "name": "stderr",
     "output_type": "stream",
     "text": [
      "c:\\Users\\cbh2\\Documents\\ManyProp\\manypropenv\\Lib\\site-packages\\pytorch_lightning\\utilities\\data.py:79: Trying to infer the `batch_size` from an ambiguous collection. The batch size we found is 403. To avoid any miscalculations, use `self.log(..., batch_size=batch_size)`.\n",
      "c:\\Users\\cbh2\\Documents\\ManyProp\\manypropenv\\Lib\\site-packages\\pytorch_lightning\\utilities\\data.py:79: Trying to infer the `batch_size` from an ambiguous collection. The batch size we found is 435. To avoid any miscalculations, use `self.log(..., batch_size=batch_size)`.\n",
      "c:\\Users\\cbh2\\Documents\\ManyProp\\manypropenv\\Lib\\site-packages\\pytorch_lightning\\utilities\\data.py:79: Trying to infer the `batch_size` from an ambiguous collection. The batch size we found is 367. To avoid any miscalculations, use `self.log(..., batch_size=batch_size)`.\n",
      "c:\\Users\\cbh2\\Documents\\ManyProp\\manypropenv\\Lib\\site-packages\\pytorch_lightning\\utilities\\data.py:79: Trying to infer the `batch_size` from an ambiguous collection. The batch size we found is 441. To avoid any miscalculations, use `self.log(..., batch_size=batch_size)`.\n"
     ]
    },
    {
     "name": "stdout",
     "output_type": "stream",
     "text": [
      "\n"
     ]
    },
    {
     "name": "stderr",
     "output_type": "stream",
     "text": [
      "c:\\Users\\cbh2\\Documents\\ManyProp\\manypropenv\\Lib\\site-packages\\pytorch_lightning\\utilities\\data.py:79: Trying to infer the `batch_size` from an ambiguous collection. The batch size we found is 366. To avoid any miscalculations, use `self.log(..., batch_size=batch_size)`.\n",
      "c:\\Users\\cbh2\\Documents\\ManyProp\\manypropenv\\Lib\\site-packages\\pytorch_lightning\\utilities\\data.py:79: Trying to infer the `batch_size` from an ambiguous collection. The batch size we found is 378. To avoid any miscalculations, use `self.log(..., batch_size=batch_size)`.\n",
      "c:\\Users\\cbh2\\Documents\\ManyProp\\manypropenv\\Lib\\site-packages\\pytorch_lightning\\utilities\\data.py:79: Trying to infer the `batch_size` from an ambiguous collection. The batch size we found is 436. To avoid any miscalculations, use `self.log(..., batch_size=batch_size)`.\n",
      "c:\\Users\\cbh2\\Documents\\ManyProp\\manypropenv\\Lib\\site-packages\\pytorch_lightning\\utilities\\data.py:79: Trying to infer the `batch_size` from an ambiguous collection. The batch size we found is 350. To avoid any miscalculations, use `self.log(..., batch_size=batch_size)`.\n"
     ]
    },
    {
     "name": "stdout",
     "output_type": "stream",
     "text": [
      "Validation DataLoader 0:  67%|██████▋   | 229/341 [00:02<00:00, 113.04it/s]\u001b[A\n"
     ]
    },
    {
     "name": "stderr",
     "output_type": "stream",
     "text": [
      "c:\\Users\\cbh2\\Documents\\ManyProp\\manypropenv\\Lib\\site-packages\\pytorch_lightning\\utilities\\data.py:79: Trying to infer the `batch_size` from an ambiguous collection. The batch size we found is 451. To avoid any miscalculations, use `self.log(..., batch_size=batch_size)`.\n",
      "c:\\Users\\cbh2\\Documents\\ManyProp\\manypropenv\\Lib\\site-packages\\pytorch_lightning\\utilities\\data.py:79: Trying to infer the `batch_size` from an ambiguous collection. The batch size we found is 410. To avoid any miscalculations, use `self.log(..., batch_size=batch_size)`.\n",
      "c:\\Users\\cbh2\\Documents\\ManyProp\\manypropenv\\Lib\\site-packages\\pytorch_lightning\\utilities\\data.py:79: Trying to infer the `batch_size` from an ambiguous collection. The batch size we found is 455. To avoid any miscalculations, use `self.log(..., batch_size=batch_size)`.\n",
      "c:\\Users\\cbh2\\Documents\\ManyProp\\manypropenv\\Lib\\site-packages\\pytorch_lightning\\utilities\\data.py:79: Trying to infer the `batch_size` from an ambiguous collection. The batch size we found is 454. To avoid any miscalculations, use `self.log(..., batch_size=batch_size)`.\n",
      "c:\\Users\\cbh2\\Documents\\ManyProp\\manypropenv\\Lib\\site-packages\\pytorch_lightning\\utilities\\data.py:79: Trying to infer the `batch_size` from an ambiguous collection. The batch size we found is 341. To avoid any miscalculations, use `self.log(..., batch_size=batch_size)`.\n",
      "c:\\Users\\cbh2\\Documents\\ManyProp\\manypropenv\\Lib\\site-packages\\pytorch_lightning\\utilities\\data.py:79: Trying to infer the `batch_size` from an ambiguous collection. The batch size we found is 433. To avoid any miscalculations, use `self.log(..., batch_size=batch_size)`.\n"
     ]
    },
    {
     "name": "stdout",
     "output_type": "stream",
     "text": [
      "Validation DataLoader 0:  79%|███████▉  | 270/341 [00:02<00:00, 111.46it/s]\u001b[A"
     ]
    },
    {
     "name": "stderr",
     "output_type": "stream",
     "text": [
      "c:\\Users\\cbh2\\Documents\\ManyProp\\manypropenv\\Lib\\site-packages\\pytorch_lightning\\utilities\\data.py:79: Trying to infer the `batch_size` from an ambiguous collection. The batch size we found is 352. To avoid any miscalculations, use `self.log(..., batch_size=batch_size)`.\n",
      "c:\\Users\\cbh2\\Documents\\ManyProp\\manypropenv\\Lib\\site-packages\\pytorch_lightning\\utilities\\data.py:79: Trying to infer the `batch_size` from an ambiguous collection. The batch size we found is 419. To avoid any miscalculations, use `self.log(..., batch_size=batch_size)`.\n"
     ]
    },
    {
     "name": "stdout",
     "output_type": "stream",
     "text": []
    },
    {
     "name": "stderr",
     "output_type": "stream",
     "text": [
      "c:\\Users\\cbh2\\Documents\\ManyProp\\manypropenv\\Lib\\site-packages\\pytorch_lightning\\utilities\\data.py:79: Trying to infer the `batch_size` from an ambiguous collection. The batch size we found is 374. To avoid any miscalculations, use `self.log(..., batch_size=batch_size)`.\n",
      "c:\\Users\\cbh2\\Documents\\ManyProp\\manypropenv\\Lib\\site-packages\\pytorch_lightning\\utilities\\data.py:79: Trying to infer the `batch_size` from an ambiguous collection. The batch size we found is 443. To avoid any miscalculations, use `self.log(..., batch_size=batch_size)`.\n"
     ]
    },
    {
     "name": "stdout",
     "output_type": "stream",
     "text": [
      "Epoch 1:   0%|          | 1/2726 [00:00<00:41, 65.89it/s, v_num=18]   "
     ]
    },
    {
     "name": "stderr",
     "output_type": "stream",
     "text": [
      "c:\\Users\\cbh2\\Documents\\ManyProp\\manypropenv\\Lib\\site-packages\\pytorch_lightning\\utilities\\data.py:79: Trying to infer the `batch_size` from an ambiguous collection. The batch size we found is 362. To avoid any miscalculations, use `self.log(..., batch_size=batch_size)`.\n",
      "c:\\Users\\cbh2\\Documents\\ManyProp\\manypropenv\\Lib\\site-packages\\pytorch_lightning\\utilities\\data.py:79: Trying to infer the `batch_size` from an ambiguous collection. The batch size we found is 444. To avoid any miscalculations, use `self.log(..., batch_size=batch_size)`.\n",
      "c:\\Users\\cbh2\\Documents\\ManyProp\\manypropenv\\Lib\\site-packages\\pytorch_lightning\\utilities\\data.py:79: Trying to infer the `batch_size` from an ambiguous collection. The batch size we found is 291. To avoid any miscalculations, use `self.log(..., batch_size=batch_size)`.\n"
     ]
    },
    {
     "name": "stdout",
     "output_type": "stream",
     "text": [
      "Epoch 1: 100%|██████████| 2726/2726 [00:28<00:00, 96.15it/s, v_num=18]"
     ]
    },
    {
     "name": "stderr",
     "output_type": "stream",
     "text": [
      "c:\\Users\\cbh2\\Documents\\ManyProp\\manypropenv\\Lib\\site-packages\\pytorch_lightning\\utilities\\data.py:79: Trying to infer the `batch_size` from an ambiguous collection. The batch size we found is 354. To avoid any miscalculations, use `self.log(..., batch_size=batch_size)`.\n",
      "c:\\Users\\cbh2\\Documents\\ManyProp\\manypropenv\\Lib\\site-packages\\pytorch_lightning\\utilities\\data.py:79: Trying to infer the `batch_size` from an ambiguous collection. The batch size we found is 447. To avoid any miscalculations, use `self.log(..., batch_size=batch_size)`.\n"
     ]
    },
    {
     "name": "stdout",
     "output_type": "stream",
     "text": []
    },
    {
     "name": "stderr",
     "output_type": "stream",
     "text": [
      "c:\\Users\\cbh2\\Documents\\ManyProp\\manypropenv\\Lib\\site-packages\\pytorch_lightning\\utilities\\data.py:79: Trying to infer the `batch_size` from an ambiguous collection. The batch size we found is 474. To avoid any miscalculations, use `self.log(..., batch_size=batch_size)`.\n",
      "c:\\Users\\cbh2\\Documents\\ManyProp\\manypropenv\\Lib\\site-packages\\pytorch_lightning\\utilities\\data.py:79: Trying to infer the `batch_size` from an ambiguous collection. The batch size we found is 346. To avoid any miscalculations, use `self.log(..., batch_size=batch_size)`.\n"
     ]
    },
    {
     "name": "stdout",
     "output_type": "stream",
     "text": []
    },
    {
     "name": "stderr",
     "output_type": "stream",
     "text": [
      "c:\\Users\\cbh2\\Documents\\ManyProp\\manypropenv\\Lib\\site-packages\\pytorch_lightning\\utilities\\data.py:79: Trying to infer the `batch_size` from an ambiguous collection. The batch size we found is 440. To avoid any miscalculations, use `self.log(..., batch_size=batch_size)`.\n"
     ]
    },
    {
     "name": "stdout",
     "output_type": "stream",
     "text": []
    },
    {
     "name": "stderr",
     "output_type": "stream",
     "text": [
      "c:\\Users\\cbh2\\Documents\\ManyProp\\manypropenv\\Lib\\site-packages\\pytorch_lightning\\utilities\\data.py:79: Trying to infer the `batch_size` from an ambiguous collection. The batch size we found is 357. To avoid any miscalculations, use `self.log(..., batch_size=batch_size)`.\n",
      "c:\\Users\\cbh2\\Documents\\ManyProp\\manypropenv\\Lib\\site-packages\\pytorch_lightning\\utilities\\data.py:79: Trying to infer the `batch_size` from an ambiguous collection. The batch size we found is 345. To avoid any miscalculations, use `self.log(..., batch_size=batch_size)`.\n"
     ]
    },
    {
     "name": "stdout",
     "output_type": "stream",
     "text": []
    },
    {
     "name": "stderr",
     "output_type": "stream",
     "text": [
      "c:\\Users\\cbh2\\Documents\\ManyProp\\manypropenv\\Lib\\site-packages\\pytorch_lightning\\utilities\\data.py:79: Trying to infer the `batch_size` from an ambiguous collection. The batch size we found is 426. To avoid any miscalculations, use `self.log(..., batch_size=batch_size)`.\n",
      "c:\\Users\\cbh2\\Documents\\ManyProp\\manypropenv\\Lib\\site-packages\\pytorch_lightning\\utilities\\data.py:79: Trying to infer the `batch_size` from an ambiguous collection. The batch size we found is 459. To avoid any miscalculations, use `self.log(..., batch_size=batch_size)`.\n",
      "c:\\Users\\cbh2\\Documents\\ManyProp\\manypropenv\\Lib\\site-packages\\pytorch_lightning\\utilities\\data.py:79: Trying to infer the `batch_size` from an ambiguous collection. The batch size we found is 325. To avoid any miscalculations, use `self.log(..., batch_size=batch_size)`.\n"
     ]
    },
    {
     "name": "stdout",
     "output_type": "stream",
     "text": []
    },
    {
     "name": "stderr",
     "output_type": "stream",
     "text": [
      "c:\\Users\\cbh2\\Documents\\ManyProp\\manypropenv\\Lib\\site-packages\\pytorch_lightning\\utilities\\data.py:79: Trying to infer the `batch_size` from an ambiguous collection. The batch size we found is 458. To avoid any miscalculations, use `self.log(..., batch_size=batch_size)`.\n",
      "c:\\Users\\cbh2\\Documents\\ManyProp\\manypropenv\\Lib\\site-packages\\pytorch_lightning\\utilities\\data.py:79: Trying to infer the `batch_size` from an ambiguous collection. The batch size we found is 463. To avoid any miscalculations, use `self.log(..., batch_size=batch_size)`.\n",
      "c:\\Users\\cbh2\\Documents\\ManyProp\\manypropenv\\Lib\\site-packages\\pytorch_lightning\\utilities\\data.py:79: Trying to infer the `batch_size` from an ambiguous collection. The batch size we found is 327. To avoid any miscalculations, use `self.log(..., batch_size=batch_size)`.\n"
     ]
    },
    {
     "name": "stdout",
     "output_type": "stream",
     "text": []
    },
    {
     "name": "stderr",
     "output_type": "stream",
     "text": [
      "c:\\Users\\cbh2\\Documents\\ManyProp\\manypropenv\\Lib\\site-packages\\pytorch_lightning\\utilities\\data.py:79: Trying to infer the `batch_size` from an ambiguous collection. The batch size we found is 457. To avoid any miscalculations, use `self.log(..., batch_size=batch_size)`.\n"
     ]
    },
    {
     "name": "stdout",
     "output_type": "stream",
     "text": []
    },
    {
     "name": "stderr",
     "output_type": "stream",
     "text": [
      "c:\\Users\\cbh2\\Documents\\ManyProp\\manypropenv\\Lib\\site-packages\\pytorch_lightning\\utilities\\data.py:79: Trying to infer the `batch_size` from an ambiguous collection. The batch size we found is 449. To avoid any miscalculations, use `self.log(..., batch_size=batch_size)`.\n"
     ]
    },
    {
     "name": "stdout",
     "output_type": "stream",
     "text": []
    },
    {
     "name": "stderr",
     "output_type": "stream",
     "text": [
      "c:\\Users\\cbh2\\Documents\\ManyProp\\manypropenv\\Lib\\site-packages\\pytorch_lightning\\utilities\\data.py:79: Trying to infer the `batch_size` from an ambiguous collection. The batch size we found is 483. To avoid any miscalculations, use `self.log(..., batch_size=batch_size)`.\n"
     ]
    },
    {
     "name": "stdout",
     "output_type": "stream",
     "text": []
    },
    {
     "name": "stderr",
     "output_type": "stream",
     "text": [
      "c:\\Users\\cbh2\\Documents\\ManyProp\\manypropenv\\Lib\\site-packages\\pytorch_lightning\\utilities\\data.py:79: Trying to infer the `batch_size` from an ambiguous collection. The batch size we found is 452. To avoid any miscalculations, use `self.log(..., batch_size=batch_size)`.\n",
      "c:\\Users\\cbh2\\Documents\\ManyProp\\manypropenv\\Lib\\site-packages\\pytorch_lightning\\utilities\\data.py:79: Trying to infer the `batch_size` from an ambiguous collection. The batch size we found is 491. To avoid any miscalculations, use `self.log(..., batch_size=batch_size)`.\n",
      "c:\\Users\\cbh2\\Documents\\ManyProp\\manypropenv\\Lib\\site-packages\\pytorch_lightning\\utilities\\data.py:79: Trying to infer the `batch_size` from an ambiguous collection. The batch size we found is 351. To avoid any miscalculations, use `self.log(..., batch_size=batch_size)`.\n",
      "c:\\Users\\cbh2\\Documents\\ManyProp\\manypropenv\\Lib\\site-packages\\pytorch_lightning\\utilities\\data.py:79: Trying to infer the `batch_size` from an ambiguous collection. The batch size we found is 448. To avoid any miscalculations, use `self.log(..., batch_size=batch_size)`.\n"
     ]
    },
    {
     "name": "stdout",
     "output_type": "stream",
     "text": [
      "Epoch 2:   1%|          | 16/2726 [00:00<00:29, 92.83it/s, v_num=18]  "
     ]
    },
    {
     "name": "stderr",
     "output_type": "stream",
     "text": [
      "c:\\Users\\cbh2\\Documents\\ManyProp\\manypropenv\\Lib\\site-packages\\pytorch_lightning\\utilities\\data.py:79: Trying to infer the `batch_size` from an ambiguous collection. The batch size we found is 338. To avoid any miscalculations, use `self.log(..., batch_size=batch_size)`.\n",
      "c:\\Users\\cbh2\\Documents\\ManyProp\\manypropenv\\Lib\\site-packages\\pytorch_lightning\\utilities\\data.py:79: Trying to infer the `batch_size` from an ambiguous collection. The batch size we found is 277. To avoid any miscalculations, use `self.log(..., batch_size=batch_size)`.\n"
     ]
    },
    {
     "name": "stdout",
     "output_type": "stream",
     "text": [
      "Epoch 2: 100%|██████████| 2726/2726 [00:28<00:00, 97.05it/s, v_num=18]"
     ]
    },
    {
     "name": "stderr",
     "output_type": "stream",
     "text": [
      "c:\\Users\\cbh2\\Documents\\ManyProp\\manypropenv\\Lib\\site-packages\\pytorch_lightning\\utilities\\data.py:79: Trying to infer the `batch_size` from an ambiguous collection. The batch size we found is 468. To avoid any miscalculations, use `self.log(..., batch_size=batch_size)`.\n",
      "c:\\Users\\cbh2\\Documents\\ManyProp\\manypropenv\\Lib\\site-packages\\pytorch_lightning\\utilities\\data.py:79: Trying to infer the `batch_size` from an ambiguous collection. The batch size we found is 464. To avoid any miscalculations, use `self.log(..., batch_size=batch_size)`.\n"
     ]
    },
    {
     "name": "stdout",
     "output_type": "stream",
     "text": []
    },
    {
     "name": "stderr",
     "output_type": "stream",
     "text": [
      "c:\\Users\\cbh2\\Documents\\ManyProp\\manypropenv\\Lib\\site-packages\\pytorch_lightning\\utilities\\data.py:79: Trying to infer the `batch_size` from an ambiguous collection. The batch size we found is 335. To avoid any miscalculations, use `self.log(..., batch_size=batch_size)`.\n"
     ]
    },
    {
     "name": "stdout",
     "output_type": "stream",
     "text": []
    },
    {
     "name": "stderr",
     "output_type": "stream",
     "text": [
      "c:\\Users\\cbh2\\Documents\\ManyProp\\manypropenv\\Lib\\site-packages\\pytorch_lightning\\utilities\\data.py:79: Trying to infer the `batch_size` from an ambiguous collection. The batch size we found is 328. To avoid any miscalculations, use `self.log(..., batch_size=batch_size)`.\n",
      "c:\\Users\\cbh2\\Documents\\ManyProp\\manypropenv\\Lib\\site-packages\\pytorch_lightning\\utilities\\data.py:79: Trying to infer the `batch_size` from an ambiguous collection. The batch size we found is 472. To avoid any miscalculations, use `self.log(..., batch_size=batch_size)`.\n"
     ]
    },
    {
     "name": "stdout",
     "output_type": "stream",
     "text": [
      "\n"
     ]
    },
    {
     "name": "stderr",
     "output_type": "stream",
     "text": [
      "c:\\Users\\cbh2\\Documents\\ManyProp\\manypropenv\\Lib\\site-packages\\pytorch_lightning\\utilities\\data.py:79: Trying to infer the `batch_size` from an ambiguous collection. The batch size we found is 495. To avoid any miscalculations, use `self.log(..., batch_size=batch_size)`.\n"
     ]
    },
    {
     "name": "stdout",
     "output_type": "stream",
     "text": [
      "Validation DataLoader 0:  54%|█████▍    | 185/341 [00:01<00:01, 107.61it/s]\u001b[A"
     ]
    },
    {
     "name": "stderr",
     "output_type": "stream",
     "text": [
      "c:\\Users\\cbh2\\Documents\\ManyProp\\manypropenv\\Lib\\site-packages\\pytorch_lightning\\utilities\\data.py:79: Trying to infer the `batch_size` from an ambiguous collection. The batch size we found is 486. To avoid any miscalculations, use `self.log(..., batch_size=batch_size)`.\n"
     ]
    },
    {
     "name": "stdout",
     "output_type": "stream",
     "text": []
    },
    {
     "name": "stderr",
     "output_type": "stream",
     "text": [
      "c:\\Users\\cbh2\\Documents\\ManyProp\\manypropenv\\Lib\\site-packages\\pytorch_lightning\\utilities\\data.py:79: Trying to infer the `batch_size` from an ambiguous collection. The batch size we found is 340. To avoid any miscalculations, use `self.log(..., batch_size=batch_size)`.\n"
     ]
    },
    {
     "name": "stdout",
     "output_type": "stream",
     "text": []
    },
    {
     "name": "stderr",
     "output_type": "stream",
     "text": [
      "c:\\Users\\cbh2\\Documents\\ManyProp\\manypropenv\\Lib\\site-packages\\pytorch_lightning\\utilities\\data.py:79: Trying to infer the `batch_size` from an ambiguous collection. The batch size we found is 342. To avoid any miscalculations, use `self.log(..., batch_size=batch_size)`.\n"
     ]
    },
    {
     "name": "stdout",
     "output_type": "stream",
     "text": [
      "Epoch 3:   1%|          | 15/2726 [00:00<00:32, 83.94it/s, v_num=18]  "
     ]
    },
    {
     "name": "stderr",
     "output_type": "stream",
     "text": [
      "c:\\Users\\cbh2\\Documents\\ManyProp\\manypropenv\\Lib\\site-packages\\pytorch_lightning\\utilities\\data.py:79: Trying to infer the `batch_size` from an ambiguous collection. The batch size we found is 302. To avoid any miscalculations, use `self.log(..., batch_size=batch_size)`.\n"
     ]
    },
    {
     "name": "stdout",
     "output_type": "stream",
     "text": [
      "Epoch 3: 100%|██████████| 2726/2726 [00:30<00:00, 90.78it/s, v_num=18]"
     ]
    },
    {
     "name": "stderr",
     "output_type": "stream",
     "text": [
      "c:\\Users\\cbh2\\Documents\\ManyProp\\manypropenv\\Lib\\site-packages\\pytorch_lightning\\utilities\\data.py:79: Trying to infer the `batch_size` from an ambiguous collection. The batch size we found is 453. To avoid any miscalculations, use `self.log(..., batch_size=batch_size)`.\n",
      "c:\\Users\\cbh2\\Documents\\ManyProp\\manypropenv\\Lib\\site-packages\\pytorch_lightning\\utilities\\data.py:79: Trying to infer the `batch_size` from an ambiguous collection. The batch size we found is 462. To avoid any miscalculations, use `self.log(..., batch_size=batch_size)`.\n"
     ]
    },
    {
     "name": "stdout",
     "output_type": "stream",
     "text": []
    },
    {
     "name": "stderr",
     "output_type": "stream",
     "text": [
      "c:\\Users\\cbh2\\Documents\\ManyProp\\manypropenv\\Lib\\site-packages\\pytorch_lightning\\utilities\\data.py:79: Trying to infer the `batch_size` from an ambiguous collection. The batch size we found is 318. To avoid any miscalculations, use `self.log(..., batch_size=batch_size)`.\n",
      "c:\\Users\\cbh2\\Documents\\ManyProp\\manypropenv\\Lib\\site-packages\\pytorch_lightning\\utilities\\data.py:79: Trying to infer the `batch_size` from an ambiguous collection. The batch size we found is 461. To avoid any miscalculations, use `self.log(..., batch_size=batch_size)`.\n"
     ]
    },
    {
     "name": "stdout",
     "output_type": "stream",
     "text": []
    },
    {
     "name": "stderr",
     "output_type": "stream",
     "text": [
      "c:\\Users\\cbh2\\Documents\\ManyProp\\manypropenv\\Lib\\site-packages\\pytorch_lightning\\utilities\\data.py:79: Trying to infer the `batch_size` from an ambiguous collection. The batch size we found is 337. To avoid any miscalculations, use `self.log(..., batch_size=batch_size)`.\n"
     ]
    },
    {
     "name": "stdout",
     "output_type": "stream",
     "text": []
    },
    {
     "name": "stderr",
     "output_type": "stream",
     "text": [
      "c:\\Users\\cbh2\\Documents\\ManyProp\\manypropenv\\Lib\\site-packages\\pytorch_lightning\\utilities\\data.py:79: Trying to infer the `batch_size` from an ambiguous collection. The batch size we found is 475. To avoid any miscalculations, use `self.log(..., batch_size=batch_size)`.\n"
     ]
    },
    {
     "name": "stdout",
     "output_type": "stream",
     "text": [
      "Epoch 4:   0%|          | 8/2726 [00:00<00:34, 79.88it/s, v_num=18]   "
     ]
    },
    {
     "name": "stderr",
     "output_type": "stream",
     "text": [
      "c:\\Users\\cbh2\\Documents\\ManyProp\\manypropenv\\Lib\\site-packages\\pytorch_lightning\\utilities\\data.py:79: Trying to infer the `batch_size` from an ambiguous collection. The batch size we found is 442. To avoid any miscalculations, use `self.log(..., batch_size=batch_size)`.\n",
      "c:\\Users\\cbh2\\Documents\\ManyProp\\manypropenv\\Lib\\site-packages\\pytorch_lightning\\utilities\\data.py:79: Trying to infer the `batch_size` from an ambiguous collection. The batch size we found is 297. To avoid any miscalculations, use `self.log(..., batch_size=batch_size)`.\n"
     ]
    },
    {
     "name": "stdout",
     "output_type": "stream",
     "text": [
      "Epoch 4: 100%|██████████| 2726/2726 [00:29<00:00, 92.14it/s, v_num=18]"
     ]
    },
    {
     "name": "stderr",
     "output_type": "stream",
     "text": [
      "c:\\Users\\cbh2\\Documents\\ManyProp\\manypropenv\\Lib\\site-packages\\pytorch_lightning\\utilities\\data.py:79: Trying to infer the `batch_size` from an ambiguous collection. The batch size we found is 485. To avoid any miscalculations, use `self.log(..., batch_size=batch_size)`.\n"
     ]
    },
    {
     "name": "stdout",
     "output_type": "stream",
     "text": []
    },
    {
     "name": "stderr",
     "output_type": "stream",
     "text": [
      "c:\\Users\\cbh2\\Documents\\ManyProp\\manypropenv\\Lib\\site-packages\\pytorch_lightning\\utilities\\data.py:79: Trying to infer the `batch_size` from an ambiguous collection. The batch size we found is 339. To avoid any miscalculations, use `self.log(..., batch_size=batch_size)`.\n"
     ]
    },
    {
     "name": "stdout",
     "output_type": "stream",
     "text": [
      "Epoch 5: 100%|██████████| 2726/2726 [00:28<00:00, 94.12it/s, v_num=18]\n",
      "Validation DataLoader 0:  45%|████▌     | 154/341 [00:01<00:01, 110.57it/s]"
     ]
    },
    {
     "name": "stderr",
     "output_type": "stream",
     "text": [
      "c:\\Users\\cbh2\\Documents\\ManyProp\\manypropenv\\Lib\\site-packages\\pytorch_lightning\\utilities\\data.py:79: Trying to infer the `batch_size` from an ambiguous collection. The batch size we found is 331. To avoid any miscalculations, use `self.log(..., batch_size=batch_size)`.\n"
     ]
    },
    {
     "name": "stdout",
     "output_type": "stream",
     "text": [
      "\u001b[A\n"
     ]
    },
    {
     "name": "stderr",
     "output_type": "stream",
     "text": [
      "c:\\Users\\cbh2\\Documents\\ManyProp\\manypropenv\\Lib\\site-packages\\pytorch_lightning\\utilities\\data.py:79: Trying to infer the `batch_size` from an ambiguous collection. The batch size we found is 465. To avoid any miscalculations, use `self.log(..., batch_size=batch_size)`.\n"
     ]
    },
    {
     "name": "stdout",
     "output_type": "stream",
     "text": [
      "Validation DataLoader 0:  62%|██████▏   | 210/341 [00:01<00:01, 110.29it/s]\u001b[A"
     ]
    },
    {
     "name": "stderr",
     "output_type": "stream",
     "text": [
      "c:\\Users\\cbh2\\Documents\\ManyProp\\manypropenv\\Lib\\site-packages\\pytorch_lightning\\utilities\\data.py:79: Trying to infer the `batch_size` from an ambiguous collection. The batch size we found is 332. To avoid any miscalculations, use `self.log(..., batch_size=batch_size)`.\n"
     ]
    },
    {
     "name": "stdout",
     "output_type": "stream",
     "text": [
      "Epoch 6:   1%|          | 17/2726 [00:00<00:31, 85.75it/s, v_num=18]  "
     ]
    },
    {
     "name": "stderr",
     "output_type": "stream",
     "text": [
      "c:\\Users\\cbh2\\Documents\\ManyProp\\manypropenv\\Lib\\site-packages\\pytorch_lightning\\utilities\\data.py:79: Trying to infer the `batch_size` from an ambiguous collection. The batch size we found is 267. To avoid any miscalculations, use `self.log(..., batch_size=batch_size)`.\n"
     ]
    },
    {
     "name": "stdout",
     "output_type": "stream",
     "text": [
      "Epoch 6: 100%|██████████| 2726/2726 [00:28<00:00, 96.79it/s, v_num=18]"
     ]
    },
    {
     "name": "stderr",
     "output_type": "stream",
     "text": [
      "c:\\Users\\cbh2\\Documents\\ManyProp\\manypropenv\\Lib\\site-packages\\pytorch_lightning\\utilities\\data.py:79: Trying to infer the `batch_size` from an ambiguous collection. The batch size we found is 321. To avoid any miscalculations, use `self.log(..., batch_size=batch_size)`.\n"
     ]
    },
    {
     "name": "stdout",
     "output_type": "stream",
     "text": []
    },
    {
     "name": "stderr",
     "output_type": "stream",
     "text": [
      "c:\\Users\\cbh2\\Documents\\ManyProp\\manypropenv\\Lib\\site-packages\\pytorch_lightning\\utilities\\data.py:79: Trying to infer the `batch_size` from an ambiguous collection. The batch size we found is 333. To avoid any miscalculations, use `self.log(..., batch_size=batch_size)`.\n",
      "c:\\Users\\cbh2\\Documents\\ManyProp\\manypropenv\\Lib\\site-packages\\pytorch_lightning\\utilities\\data.py:79: Trying to infer the `batch_size` from an ambiguous collection. The batch size we found is 467. To avoid any miscalculations, use `self.log(..., batch_size=batch_size)`.\n"
     ]
    },
    {
     "name": "stdout",
     "output_type": "stream",
     "text": []
    },
    {
     "name": "stderr",
     "output_type": "stream",
     "text": [
      "c:\\Users\\cbh2\\Documents\\ManyProp\\manypropenv\\Lib\\site-packages\\pytorch_lightning\\utilities\\data.py:79: Trying to infer the `batch_size` from an ambiguous collection. The batch size we found is 466. To avoid any miscalculations, use `self.log(..., batch_size=batch_size)`.\n"
     ]
    },
    {
     "name": "stdout",
     "output_type": "stream",
     "text": [
      "Epoch 7:   1%|          | 17/2726 [00:00<00:29, 92.14it/s, v_num=18]  "
     ]
    },
    {
     "name": "stderr",
     "output_type": "stream",
     "text": [
      "c:\\Users\\cbh2\\Documents\\ManyProp\\manypropenv\\Lib\\site-packages\\pytorch_lightning\\utilities\\data.py:79: Trying to infer the `batch_size` from an ambiguous collection. The batch size we found is 282. To avoid any miscalculations, use `self.log(..., batch_size=batch_size)`.\n"
     ]
    },
    {
     "name": "stdout",
     "output_type": "stream",
     "text": [
      "Epoch 7: 100%|██████████| 2726/2726 [00:27<00:00, 99.15it/s, v_num=18] "
     ]
    },
    {
     "name": "stderr",
     "output_type": "stream",
     "text": [
      "c:\\Users\\cbh2\\Documents\\ManyProp\\manypropenv\\Lib\\site-packages\\pytorch_lightning\\utilities\\data.py:79: Trying to infer the `batch_size` from an ambiguous collection. The batch size we found is 470. To avoid any miscalculations, use `self.log(..., batch_size=batch_size)`.\n"
     ]
    },
    {
     "name": "stdout",
     "output_type": "stream",
     "text": []
    },
    {
     "name": "stderr",
     "output_type": "stream",
     "text": [
      "c:\\Users\\cbh2\\Documents\\ManyProp\\manypropenv\\Lib\\site-packages\\pytorch_lightning\\utilities\\data.py:79: Trying to infer the `batch_size` from an ambiguous collection. The batch size we found is 334. To avoid any miscalculations, use `self.log(..., batch_size=batch_size)`.\n",
      "c:\\Users\\cbh2\\Documents\\ManyProp\\manypropenv\\Lib\\site-packages\\pytorch_lightning\\utilities\\data.py:79: Trying to infer the `batch_size` from an ambiguous collection. The batch size we found is 473. To avoid any miscalculations, use `self.log(..., batch_size=batch_size)`.\n"
     ]
    },
    {
     "name": "stdout",
     "output_type": "stream",
     "text": []
    },
    {
     "name": "stderr",
     "output_type": "stream",
     "text": [
      "c:\\Users\\cbh2\\Documents\\ManyProp\\manypropenv\\Lib\\site-packages\\pytorch_lightning\\utilities\\data.py:79: Trying to infer the `batch_size` from an ambiguous collection. The batch size we found is 336. To avoid any miscalculations, use `self.log(..., batch_size=batch_size)`.\n"
     ]
    },
    {
     "name": "stdout",
     "output_type": "stream",
     "text": []
    },
    {
     "name": "stderr",
     "output_type": "stream",
     "text": [
      "c:\\Users\\cbh2\\Documents\\ManyProp\\manypropenv\\Lib\\site-packages\\pytorch_lightning\\utilities\\data.py:79: Trying to infer the `batch_size` from an ambiguous collection. The batch size we found is 445. To avoid any miscalculations, use `self.log(..., batch_size=batch_size)`.\n"
     ]
    },
    {
     "name": "stdout",
     "output_type": "stream",
     "text": [
      "Epoch 8:   1%|          | 17/2726 [00:00<00:30, 90.12it/s, v_num=18]  "
     ]
    },
    {
     "name": "stderr",
     "output_type": "stream",
     "text": [
      "c:\\Users\\cbh2\\Documents\\ManyProp\\manypropenv\\Lib\\site-packages\\pytorch_lightning\\utilities\\data.py:79: Trying to infer the `batch_size` from an ambiguous collection. The batch size we found is 305. To avoid any miscalculations, use `self.log(..., batch_size=batch_size)`.\n"
     ]
    },
    {
     "name": "stdout",
     "output_type": "stream",
     "text": [
      "Epoch 8: 100%|██████████| 2726/2726 [00:26<00:00, 101.41it/s, v_num=18]"
     ]
    },
    {
     "name": "stderr",
     "output_type": "stream",
     "text": [
      "c:\\Users\\cbh2\\Documents\\ManyProp\\manypropenv\\Lib\\site-packages\\pytorch_lightning\\utilities\\data.py:79: Trying to infer the `batch_size` from an ambiguous collection. The batch size we found is 477. To avoid any miscalculations, use `self.log(..., batch_size=batch_size)`.\n"
     ]
    },
    {
     "name": "stdout",
     "output_type": "stream",
     "text": [
      "Epoch 9:   1%|          | 27/2726 [00:00<00:17, 153.68it/s, v_num=18]  "
     ]
    },
    {
     "name": "stderr",
     "output_type": "stream",
     "text": [
      "c:\\Users\\cbh2\\Documents\\ManyProp\\manypropenv\\Lib\\site-packages\\pytorch_lightning\\utilities\\data.py:79: Trying to infer the `batch_size` from an ambiguous collection. The batch size we found is 471. To avoid any miscalculations, use `self.log(..., batch_size=batch_size)`.\n"
     ]
    },
    {
     "name": "stdout",
     "output_type": "stream",
     "text": [
      "Epoch 9: 100%|██████████| 2726/2726 [00:26<00:00, 101.40it/s, v_num=18]"
     ]
    },
    {
     "name": "stderr",
     "output_type": "stream",
     "text": [
      "c:\\Users\\cbh2\\Documents\\ManyProp\\manypropenv\\Lib\\site-packages\\pytorch_lightning\\utilities\\data.py:79: Trying to infer the `batch_size` from an ambiguous collection. The batch size we found is 480. To avoid any miscalculations, use `self.log(..., batch_size=batch_size)`.\n"
     ]
    },
    {
     "name": "stdout",
     "output_type": "stream",
     "text": [
      "\n"
     ]
    },
    {
     "name": "stderr",
     "output_type": "stream",
     "text": [
      "c:\\Users\\cbh2\\Documents\\ManyProp\\manypropenv\\Lib\\site-packages\\pytorch_lightning\\utilities\\data.py:79: Trying to infer the `batch_size` from an ambiguous collection. The batch size we found is 469. To avoid any miscalculations, use `self.log(..., batch_size=batch_size)`.\n"
     ]
    },
    {
     "name": "stdout",
     "output_type": "stream",
     "text": [
      "Validation DataLoader 0:  39%|███▊      | 132/341 [00:01<00:01, 116.06it/s]\u001b[A"
     ]
    },
    {
     "name": "stderr",
     "output_type": "stream",
     "text": [
      "c:\\Users\\cbh2\\Documents\\ManyProp\\manypropenv\\Lib\\site-packages\\pytorch_lightning\\utilities\\data.py:79: Trying to infer the `batch_size` from an ambiguous collection. The batch size we found is 329. To avoid any miscalculations, use `self.log(..., batch_size=batch_size)`.\n"
     ]
    },
    {
     "name": "stdout",
     "output_type": "stream",
     "text": []
    },
    {
     "name": "stderr",
     "output_type": "stream",
     "text": [
      "c:\\Users\\cbh2\\Documents\\ManyProp\\manypropenv\\Lib\\site-packages\\pytorch_lightning\\utilities\\data.py:79: Trying to infer the `batch_size` from an ambiguous collection. The batch size we found is 304. To avoid any miscalculations, use `self.log(..., batch_size=batch_size)`.\n"
     ]
    },
    {
     "name": "stdout",
     "output_type": "stream",
     "text": [
      "Epoch 10: 100%|██████████| 2726/2726 [00:28<00:00, 96.06it/s, v_num=18]\n"
     ]
    },
    {
     "name": "stderr",
     "output_type": "stream",
     "text": [
      "c:\\Users\\cbh2\\Documents\\ManyProp\\manypropenv\\Lib\\site-packages\\pytorch_lightning\\utilities\\data.py:79: Trying to infer the `batch_size` from an ambiguous collection. The batch size we found is 324. To avoid any miscalculations, use `self.log(..., batch_size=batch_size)`.\n"
     ]
    },
    {
     "name": "stdout",
     "output_type": "stream",
     "text": [
      "Validation DataLoader 0:  40%|████      | 138/341 [00:01<00:01, 111.03it/s]\u001b[A"
     ]
    },
    {
     "name": "stderr",
     "output_type": "stream",
     "text": [
      "c:\\Users\\cbh2\\Documents\\ManyProp\\manypropenv\\Lib\\site-packages\\pytorch_lightning\\utilities\\data.py:79: Trying to infer the `batch_size` from an ambiguous collection. The batch size we found is 323. To avoid any miscalculations, use `self.log(..., batch_size=batch_size)`.\n"
     ]
    },
    {
     "name": "stdout",
     "output_type": "stream",
     "text": [
      "Epoch 11:   1%|          | 17/2726 [00:00<00:30, 90.06it/s, v_num=18]  "
     ]
    },
    {
     "name": "stderr",
     "output_type": "stream",
     "text": [
      "c:\\Users\\cbh2\\Documents\\ManyProp\\manypropenv\\Lib\\site-packages\\pytorch_lightning\\utilities\\data.py:79: Trying to infer the `batch_size` from an ambiguous collection. The batch size we found is 298. To avoid any miscalculations, use `self.log(..., batch_size=batch_size)`.\n"
     ]
    },
    {
     "name": "stdout",
     "output_type": "stream",
     "text": [
      "Epoch 11: 100%|██████████| 2726/2726 [00:28<00:00, 96.48it/s, v_num=18]\n"
     ]
    },
    {
     "name": "stderr",
     "output_type": "stream",
     "text": [
      "c:\\Users\\cbh2\\Documents\\ManyProp\\manypropenv\\Lib\\site-packages\\pytorch_lightning\\utilities\\data.py:79: Trying to infer the `batch_size` from an ambiguous collection. The batch size we found is 478. To avoid any miscalculations, use `self.log(..., batch_size=batch_size)`.\n"
     ]
    },
    {
     "name": "stdout",
     "output_type": "stream",
     "text": [
      "Epoch 12:   1%|          | 17/2726 [00:00<00:29, 90.98it/s, v_num=18]  t/s]\u001b[A"
     ]
    },
    {
     "name": "stderr",
     "output_type": "stream",
     "text": [
      "c:\\Users\\cbh2\\Documents\\ManyProp\\manypropenv\\Lib\\site-packages\\pytorch_lightning\\utilities\\data.py:79: Trying to infer the `batch_size` from an ambiguous collection. The batch size we found is 309. To avoid any miscalculations, use `self.log(..., batch_size=batch_size)`.\n"
     ]
    },
    {
     "name": "stdout",
     "output_type": "stream",
     "text": [
      "Epoch 13:   1%|          | 16/2726 [00:00<00:30, 88.38it/s, v_num=18]  "
     ]
    },
    {
     "name": "stderr",
     "output_type": "stream",
     "text": [
      "c:\\Users\\cbh2\\Documents\\ManyProp\\manypropenv\\Lib\\site-packages\\pytorch_lightning\\utilities\\data.py:79: Trying to infer the `batch_size` from an ambiguous collection. The batch size we found is 310. To avoid any miscalculations, use `self.log(..., batch_size=batch_size)`.\n"
     ]
    },
    {
     "name": "stdout",
     "output_type": "stream",
     "text": [
      "Epoch 14:   1%|          | 16/2726 [00:00<00:31, 87.09it/s, v_num=18]  "
     ]
    },
    {
     "name": "stderr",
     "output_type": "stream",
     "text": [
      "c:\\Users\\cbh2\\Documents\\ManyProp\\manypropenv\\Lib\\site-packages\\pytorch_lightning\\utilities\\data.py:79: Trying to infer the `batch_size` from an ambiguous collection. The batch size we found is 287. To avoid any miscalculations, use `self.log(..., batch_size=batch_size)`.\n"
     ]
    },
    {
     "name": "stdout",
     "output_type": "stream",
     "text": [
      "Epoch 15:   1%|          | 14/2726 [00:00<00:35, 76.92it/s, v_num=18]  "
     ]
    },
    {
     "name": "stderr",
     "output_type": "stream",
     "text": [
      "c:\\Users\\cbh2\\Documents\\ManyProp\\manypropenv\\Lib\\site-packages\\pytorch_lightning\\utilities\\data.py:79: Trying to infer the `batch_size` from an ambiguous collection. The batch size we found is 288. To avoid any miscalculations, use `self.log(..., batch_size=batch_size)`.\n"
     ]
    },
    {
     "name": "stdout",
     "output_type": "stream",
     "text": [
      "Epoch 15: 100%|██████████| 2726/2726 [00:31<00:00, 85.82it/s, v_num=18]"
     ]
    },
    {
     "name": "stderr",
     "output_type": "stream",
     "text": [
      "c:\\Users\\cbh2\\Documents\\ManyProp\\manypropenv\\Lib\\site-packages\\pytorch_lightning\\utilities\\data.py:79: Trying to infer the `batch_size` from an ambiguous collection. The batch size we found is 482. To avoid any miscalculations, use `self.log(..., batch_size=batch_size)`.\n"
     ]
    },
    {
     "name": "stdout",
     "output_type": "stream",
     "text": []
    },
    {
     "name": "stderr",
     "output_type": "stream",
     "text": [
      "c:\\Users\\cbh2\\Documents\\ManyProp\\manypropenv\\Lib\\site-packages\\pytorch_lightning\\utilities\\data.py:79: Trying to infer the `batch_size` from an ambiguous collection. The batch size we found is 322. To avoid any miscalculations, use `self.log(..., batch_size=batch_size)`.\n"
     ]
    },
    {
     "name": "stdout",
     "output_type": "stream",
     "text": [
      "Epoch 16:   0%|          | 13/2726 [00:00<00:35, 75.39it/s, v_num=18]  "
     ]
    },
    {
     "name": "stderr",
     "output_type": "stream",
     "text": [
      "c:\\Users\\cbh2\\Documents\\ManyProp\\manypropenv\\Lib\\site-packages\\pytorch_lightning\\utilities\\data.py:79: Trying to infer the `batch_size` from an ambiguous collection. The batch size we found is 314. To avoid any miscalculations, use `self.log(..., batch_size=batch_size)`.\n"
     ]
    },
    {
     "name": "stdout",
     "output_type": "stream",
     "text": [
      "Epoch 17:   1%|          | 15/2726 [00:00<00:32, 83.02it/s, v_num=18]  "
     ]
    },
    {
     "name": "stderr",
     "output_type": "stream",
     "text": [
      "c:\\Users\\cbh2\\Documents\\ManyProp\\manypropenv\\Lib\\site-packages\\pytorch_lightning\\utilities\\data.py:79: Trying to infer the `batch_size` from an ambiguous collection. The batch size we found is 278. To avoid any miscalculations, use `self.log(..., batch_size=batch_size)`.\n"
     ]
    },
    {
     "name": "stdout",
     "output_type": "stream",
     "text": [
      "Epoch 18: 100%|██████████| 2726/2726 [00:29<00:00, 91.16it/s, v_num=18]"
     ]
    },
    {
     "name": "stderr",
     "output_type": "stream",
     "text": [
      "c:\\Users\\cbh2\\Documents\\ManyProp\\manypropenv\\Lib\\site-packages\\pytorch_lightning\\utilities\\data.py:79: Trying to infer the `batch_size` from an ambiguous collection. The batch size we found is 493. To avoid any miscalculations, use `self.log(..., batch_size=batch_size)`.\n"
     ]
    },
    {
     "name": "stdout",
     "output_type": "stream",
     "text": [
      "Epoch 19: 100%|██████████| 2726/2726 [00:27<00:00, 97.99it/s, v_num=18]"
     ]
    },
    {
     "name": "stderr",
     "output_type": "stream",
     "text": [
      "c:\\Users\\cbh2\\Documents\\ManyProp\\manypropenv\\Lib\\site-packages\\pytorch_lightning\\utilities\\data.py:79: Trying to infer the `batch_size` from an ambiguous collection. The batch size we found is 516. To avoid any miscalculations, use `self.log(..., batch_size=batch_size)`.\n"
     ]
    },
    {
     "name": "stdout",
     "output_type": "stream",
     "text": [
      "\n"
     ]
    },
    {
     "name": "stderr",
     "output_type": "stream",
     "text": [
      "c:\\Users\\cbh2\\Documents\\ManyProp\\manypropenv\\Lib\\site-packages\\pytorch_lightning\\utilities\\data.py:79: Trying to infer the `batch_size` from an ambiguous collection. The batch size we found is 484. To avoid any miscalculations, use `self.log(..., batch_size=batch_size)`.\n"
     ]
    },
    {
     "name": "stdout",
     "output_type": "stream",
     "text": [
      "Epoch 20:   1%|          | 18/2726 [00:00<00:28, 96.29it/s, v_num=18]  t/s]\u001b[A"
     ]
    },
    {
     "name": "stderr",
     "output_type": "stream",
     "text": [
      "c:\\Users\\cbh2\\Documents\\ManyProp\\manypropenv\\Lib\\site-packages\\pytorch_lightning\\utilities\\data.py:79: Trying to infer the `batch_size` from an ambiguous collection. The batch size we found is 286. To avoid any miscalculations, use `self.log(..., batch_size=batch_size)`.\n"
     ]
    },
    {
     "name": "stdout",
     "output_type": "stream",
     "text": [
      "Epoch 21:   1%|          | 17/2726 [00:00<00:29, 92.50it/s, v_num=18]  "
     ]
    },
    {
     "name": "stderr",
     "output_type": "stream",
     "text": [
      "c:\\Users\\cbh2\\Documents\\ManyProp\\manypropenv\\Lib\\site-packages\\pytorch_lightning\\utilities\\data.py:79: Trying to infer the `batch_size` from an ambiguous collection. The batch size we found is 313. To avoid any miscalculations, use `self.log(..., batch_size=batch_size)`.\n"
     ]
    },
    {
     "name": "stdout",
     "output_type": "stream",
     "text": [
      "Epoch 21: 100%|██████████| 2726/2726 [00:28<00:00, 94.97it/s, v_num=18]"
     ]
    },
    {
     "name": "stderr",
     "output_type": "stream",
     "text": [
      "c:\\Users\\cbh2\\Documents\\ManyProp\\manypropenv\\Lib\\site-packages\\pytorch_lightning\\utilities\\data.py:79: Trying to infer the `batch_size` from an ambiguous collection. The batch size we found is 479. To avoid any miscalculations, use `self.log(..., batch_size=batch_size)`.\n"
     ]
    },
    {
     "name": "stdout",
     "output_type": "stream",
     "text": [
      "Epoch 22: 100%|██████████| 2726/2726 [00:28<00:00, 94.52it/s, v_num=18]"
     ]
    },
    {
     "name": "stderr",
     "output_type": "stream",
     "text": [
      "c:\\Users\\cbh2\\Documents\\ManyProp\\manypropenv\\Lib\\site-packages\\pytorch_lightning\\utilities\\data.py:79: Trying to infer the `batch_size` from an ambiguous collection. The batch size we found is 330. To avoid any miscalculations, use `self.log(..., batch_size=batch_size)`.\n"
     ]
    },
    {
     "name": "stdout",
     "output_type": "stream",
     "text": []
    },
    {
     "name": "stderr",
     "output_type": "stream",
     "text": [
      "c:\\Users\\cbh2\\Documents\\ManyProp\\manypropenv\\Lib\\site-packages\\pytorch_lightning\\utilities\\data.py:79: Trying to infer the `batch_size` from an ambiguous collection. The batch size we found is 315. To avoid any miscalculations, use `self.log(..., batch_size=batch_size)`.\n"
     ]
    },
    {
     "name": "stdout",
     "output_type": "stream",
     "text": [
      "Epoch 23:   1%|          | 16/2726 [00:00<00:31, 85.62it/s, v_num=18]  "
     ]
    },
    {
     "name": "stderr",
     "output_type": "stream",
     "text": [
      "c:\\Users\\cbh2\\Documents\\ManyProp\\manypropenv\\Lib\\site-packages\\pytorch_lightning\\utilities\\data.py:79: Trying to infer the `batch_size` from an ambiguous collection. The batch size we found is 306. To avoid any miscalculations, use `self.log(..., batch_size=batch_size)`.\n"
     ]
    },
    {
     "name": "stdout",
     "output_type": "stream",
     "text": [
      "Epoch 23:  21%|██        | 579/2726 [00:06<00:22, 96.50it/s, v_num=18]"
     ]
    }
   ],
   "source": [
    "from ManyProp.args import Args\n",
    "args = Args()\n",
    "#args().data_points = 40\n",
    "from ManyProp.model.train import lightning_train\n",
    "\n",
    "\n",
    "lightning_train(args=args)\n"
   ]
  },
  {
   "cell_type": "code",
   "execution_count": null,
   "id": "f1bd9842",
   "metadata": {},
   "outputs": [],
   "source": []
  }
 ],
 "metadata": {
  "kernelspec": {
   "display_name": "manypropenv",
   "language": "python",
   "name": "python3"
  },
  "language_info": {
   "codemirror_mode": {
    "name": "ipython",
    "version": 3
   },
   "file_extension": ".py",
   "mimetype": "text/x-python",
   "name": "python",
   "nbconvert_exporter": "python",
   "pygments_lexer": "ipython3",
   "version": "3.13.5"
  }
 },
 "nbformat": 4,
 "nbformat_minor": 5
}
